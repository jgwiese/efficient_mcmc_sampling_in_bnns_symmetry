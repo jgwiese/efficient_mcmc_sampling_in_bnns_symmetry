{
 "cells": [
  {
   "cell_type": "code",
   "execution_count": 2,
   "id": "83ce72d6",
   "metadata": {},
   "outputs": [],
   "source": [
    "from numpyro import distributions as d\n",
    "import jax.numpy as jnp\n",
    "import jax"
   ]
  },
  {
   "cell_type": "code",
   "execution_count": 34,
   "id": "f1c5b13e",
   "metadata": {},
   "outputs": [],
   "source": [
    "samples_01 = jax.random.normal(jax.random.PRNGKey(0), (64, )) * 0.3"
   ]
  },
  {
   "cell_type": "code",
   "execution_count": 35,
   "id": "6f40c2fc",
   "metadata": {},
   "outputs": [],
   "source": [
    "normal = d.Normal(0.0, 0.3)\n",
    "samples_02 = normal.sample(jax.random.PRNGKey(0), (64, ))"
   ]
  },
  {
   "cell_type": "code",
   "execution_count": 36,
   "id": "13f782a7",
   "metadata": {},
   "outputs": [
    {
     "name": "stdout",
     "output_type": "stream",
     "text": [
      "(64,) (64,)\n"
     ]
    }
   ],
   "source": [
    "print(samples_01.shape, samples_02.shape)"
   ]
  },
  {
   "cell_type": "code",
   "execution_count": 37,
   "id": "c9dd8bf9",
   "metadata": {},
   "outputs": [],
   "source": [
    "import matplotlib.pyplot as plt"
   ]
  },
  {
   "cell_type": "code",
   "execution_count": 38,
   "id": "8a18bef2",
   "metadata": {},
   "outputs": [
    {
     "data": {
      "text/plain": [
       "<matplotlib.collections.PathCollection at 0x7fdccc3b2fe0>"
      ]
     },
     "execution_count": 38,
     "metadata": {},
     "output_type": "execute_result"
    },
    {
     "data": {
      "image/png": "[encoded data removed]",
      "text/plain": [
       "<Figure size 432x288 with 1 Axes>"
      ]
     },
     "metadata": {
      "needs_background": "light"
     },
     "output_type": "display_data"
    }
   ],
   "source": [
    "plt.scatter(samples_01, jnp.ones_like(samples_01))\n",
    "plt.scatter(samples_02, jnp.ones_like(samples_02) * 2)"
   ]
  },
  {
   "cell_type": "code",
   "execution_count": null,
   "id": "84c1d5de",
   "metadata": {},
   "outputs": [],
   "source": [
    "# scale == standard deviation!"
   ]
  }
 ],
 "metadata": {
  "kernelspec": {
   "display_name": "Python 3 (ipykernel)",
   "language": "python",
   "name": "python3"
  },
  "language_info": {
   "codemirror_mode": {
    "name": "ipython",
    "version": 3
   },
   "file_extension": ".py",
   "mimetype": "text/x-python",
   "name": "python",
   "nbconvert_exporter": "python",
   "pygments_lexer": "ipython3",
   "version": "3.10.5"
  }
 },
 "nbformat": 4,
 "nbformat_minor": 5
}
