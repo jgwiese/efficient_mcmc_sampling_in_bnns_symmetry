{
 "cells": [
  {
   "cell_type": "markdown",
   "id": "a48740cd",
   "metadata": {},
   "source": [
    "# Experiment: Performance of MCMC"
   ]
  },
  {
   "cell_type": "code",
   "execution_count": 1,
   "id": "05331114",
   "metadata": {},
   "outputs": [
    {
     "name": "stderr",
     "output_type": "stream",
     "text": [
      "WARNING:absl:No GPU/TPU found, falling back to CPU. (Set TF_CPP_MIN_LOG_LEVEL=0 and rerun for more info.)\n"
     ]
    }
   ],
   "source": [
    "%load_ext autoreload\n",
    "%autoreload 2\n",
    "%matplotlib agg\n",
    "\n",
    "\n",
    "import global_settings\n",
    "from utils import experiments, results, evaluation\n",
    "import jax\n",
    "from multiprocessing import Pool\n",
    "from tqdm import tqdm\n",
    "import jax.numpy as jnp\n",
    "import os"
   ]
  },
  {
   "cell_type": "code",
   "execution_count": 2,
   "id": "17fa1b1f",
   "metadata": {},
   "outputs": [],
   "source": [
    "experiment = experiments.ExperimentSampleStandard(\n",
    "    settings=experiments.settings.SettingsExperimentSample(\n",
    "        output_path=global_settings.PATH_RESULTS,\n",
    "        dataset=global_settings.DATASET_NAMES[0],\n",
    "        dataset_normalization=\"standardization\",\n",
    "        hidden_layers=1,\n",
    "        hidden_neurons=3,\n",
    "        activation=\"tanh\",\n",
    "        activation_last_layer=\"none\",\n",
    "        num_warmup=2**10,\n",
    "        statistic=\"reduced\",\n",
    "        statistic_p=0.0,\n",
    "        samples_per_chain=1274,\n",
    "        identifiable_modes=1,\n",
    "        pool_size=1, # has no effect in jupyter notebook, use script instead\n",
    "        seed=0,\n",
    "        overwrite_chains=None\n",
    "    )\n",
    ")\n",
    "\n",
    "# for our approach: set for example statistic_p=0.99, identifiable_modes=3, samples_per_chain=1"
   ]
  },
  {
   "cell_type": "markdown",
   "id": "7e8463cc",
   "metadata": {},
   "source": [
    "## Run Experiment"
   ]
  },
  {
   "cell_type": "code",
   "execution_count": null,
   "id": "76a2a019",
   "metadata": {},
   "outputs": [
    {
     "name": "stdout",
     "output_type": "stream",
     "text": [
      "model transformation parameters 10\n",
      "number of chains: 1\n"
     ]
    },
    {
     "name": "stderr",
     "output_type": "stream",
     "text": [
      "\r",
      "  0%|                                                                                                                                                                                                       | 0/1 [00:00<?, ?it/s]"
     ]
    }
   ],
   "source": [
    "experiment.run()"
   ]
  },
  {
   "cell_type": "markdown",
   "id": "81a9513b",
   "metadata": {},
   "source": [
    "## Save Experiment"
   ]
  },
  {
   "cell_type": "raw",
   "id": "576f0adb",
   "metadata": {},
   "source": [
    "print(f\"saved as {experiment.save()}\")"
   ]
  },
  {
   "cell_type": "markdown",
   "id": "2bd2f87c",
   "metadata": {},
   "source": [
    "## Load experiment"
   ]
  },
  {
   "cell_type": "raw",
   "id": "75d005cc",
   "metadata": {},
   "source": [
    "result = results.ResultSample.load_from_file(os.path.join(global_settings.PATH_RESULTS, \"{}.tar.gz\".format(\n",
    "    \"6414c528c5f8cc0c9f08578de5fb1dbc\" # here the result identifier\n",
    ")))\n",
    "experiment = experiments.FactoryExperiment(result.experiment_type, **{\"settings\": result.settings})()\n",
    "experiment.set_result(result)\n",
    "print(experiment._settings)"
   ]
  },
  {
   "cell_type": "markdown",
   "id": "91e1b7b0",
   "metadata": {},
   "source": [
    "## Evaluation"
   ]
  },
  {
   "cell_type": "code",
   "execution_count": null,
   "id": "73c8af85",
   "metadata": {},
   "outputs": [],
   "source": [
    "# retrieve relevant results\n",
    "dataset = experiment._dataset\n",
    "samples = experiment.result.samples\n",
    "model = experiment._model\n",
    "\n",
    "# compute lppd\n",
    "inputs = dataset.data_test[:, dataset.conditional_indices]\n",
    "outputs = dataset.data_test[:, dataset.dependent_indices]\n",
    "log_prob_means = evaluation.computed_lppd_mcmc(\n",
    "    inputs=inputs,\n",
    "    outputs=outputs,\n",
    "    parameters_network=samples[\"parameters\"],\n",
    "    parameters_data_std=samples[\"std\"],\n",
    "    regression_model=model\n",
    ")\n",
    "\n",
    "log_probs_mean = jnp.mean(log_prob_means, axis=0)\n",
    "log_probs_std = jnp.std(log_prob_means, axis=0)\n",
    "log_probs_std_error = log_probs_std / jnp.sqrt(inputs.shape[0])\n",
    "\n",
    "if len(experiment.result.indices_test) == 0:\n",
    "    print(\"WARNING: trained on entire dataset?\")\n",
    "mcmc_str = \"lppd: {:.2f}, std_error: {:.2f}\".format(log_probs_mean.item(), log_probs_std_error.item())\n",
    "print(\"mcmc (ours)\", experiment._settings.dataset, mcmc_str)"
   ]
  }
 ],
 "metadata": {
  "kernelspec": {
   "display_name": "Python 3 (ipykernel)",
   "language": "python",
   "name": "python3"
  },
  "language_info": {
   "codemirror_mode": {
    "name": "ipython",
    "version": 3
   },
   "file_extension": ".py",
   "mimetype": "text/x-python",
   "name": "python",
   "nbconvert_exporter": "python",
   "pygments_lexer": "ipython3",
   "version": "3.10.10"
  }
 },
 "nbformat": 4,
 "nbformat_minor": 5
}
