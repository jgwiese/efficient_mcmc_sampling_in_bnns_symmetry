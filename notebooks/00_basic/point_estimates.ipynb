{
 "cells": [
  {
   "cell_type": "code",
   "execution_count": 1,
   "id": "72e4b7cb",
   "metadata": {
    "scrolled": false
   },
   "outputs": [],
   "source": [
    "%load_ext autoreload\n",
    "%autoreload 2 \n",
    "%matplotlib agg\n",
    "\n",
    "import visualization\n",
    "from data import datasets, evaluation\n",
    "import transformations\n",
    "import jax\n",
    "import jax.numpy as jnp\n",
    "import flax.linen as nn\n",
    "from flax.core import freeze\n",
    "import optax\n",
    "import inference\n",
    "from utils import settings\n",
    "\n",
    "rng_key = jax.random.PRNGKey(0)"
   ]
  },
  {
   "cell_type": "code",
   "execution_count": 2,
   "id": "def35c3c-f9e0-4649-a38e-b5dc06a64b0e",
   "metadata": {},
   "outputs": [],
   "source": [
    "dataset = datasets.Izmailov()\n",
    "#dataset = datasets.Sinusoidal()"
   ]
  },
  {
   "cell_type": "code",
   "execution_count": 3,
   "id": "37cd6b28-51e8-4843-976d-0a7ad31e3c8d",
   "metadata": {},
   "outputs": [],
   "source": [
    "model_transformation = transformations.Sequential([\n",
    "    nn.Dense(16),\n",
    "    nn.tanh,\n",
    "    nn.Dense(1)\n",
    "])"
   ]
  },
  {
   "cell_type": "code",
   "execution_count": 4,
   "id": "6f5bd0b9",
   "metadata": {},
   "outputs": [],
   "source": [
    "rng_key, rng_key_ = jax.random.split(rng_key)\n",
    "parameters = {\n",
    "    \"transformation\": model_transformation.init(rng_key_, dataset[0][0]),\n",
    "    \"log_std\": 0.0\n",
    "}"
   ]
  },
  {
   "cell_type": "raw",
   "id": "04a2ac0f",
   "metadata": {},
   "source": [
    "def ridge_loss(transformation, params, x, y):\n",
    "    std = jnp.exp(params[\"log_std\"])\n",
    "    y_pred = transformation.apply(params[\"transformation\"], x)\n",
    "    squared_loss = jnp.power(y - y_pred, 2).sum()\n",
    "    regularization = tree_util.tree_reduce(\n",
    "        lambda a, b: a + b,\n",
    "        tree_util.tree_map(lambda a: jnp.power(a, 2).sum(), params[\"transformation\"])\n",
    "    )\n",
    "    loss = (0.5 / jnp.power(std, 2)) * squared_loss + x.shape[0] * jnp.log(std) + regularization\n",
    "    return loss"
   ]
  },
  {
   "cell_type": "code",
   "execution_count": 5,
   "id": "eabd305a-f95f-4f67-a1a5-3b90bdac1b9d",
   "metadata": {
    "tags": []
   },
   "outputs": [
    {
     "name": "stdout",
     "output_type": "stream",
     "text": [
      "epoch 0 loss: 72.4175796508789\n",
      "epoch 100 loss: 24.025501251220703\n",
      "epoch 200 loss: -32.52408218383789\n",
      "epoch 300 loss: -95.95073699951172\n",
      "epoch 400 loss: -143.14736938476562\n",
      "epoch 500 loss: -185.00685119628906\n",
      "epoch 600 loss: -224.5830841064453\n",
      "epoch 700 loss: -262.2507629394531\n",
      "epoch 800 loss: -298.1024169921875\n",
      "epoch 900 loss: -332.1289978027344\n",
      "epoch 1000 loss: -364.2760009765625\n",
      "epoch 1100 loss: -394.4534606933594\n",
      "epoch 1200 loss: -422.5329895019531\n",
      "epoch 1300 loss: -448.3885803222656\n",
      "epoch 1400 loss: -472.0282287597656\n",
      "epoch 1500 loss: -493.51092529296875\n",
      "epoch 1600 loss: -512.5220336914062\n",
      "epoch 1700 loss: -528.947509765625\n",
      "epoch 1800 loss: -543.3970947265625\n",
      "epoch 1900 loss: -556.377685546875\n",
      "epoch 2000 loss: -567.681396484375\n",
      "epoch 2100 loss: -576.8665771484375\n",
      "epoch 2200 loss: -584.1306762695312\n",
      "epoch 2300 loss: -589.9627685546875\n",
      "epoch 2400 loss: -594.427490234375\n",
      "epoch 2500 loss: -597.7115478515625\n",
      "epoch 2600 loss: -600.173583984375\n",
      "epoch 2700 loss: -602.07080078125\n",
      "epoch 2800 loss: -603.5535278320312\n",
      "epoch 2900 loss: -604.8273315429688\n",
      "epoch 3000 loss: -605.9532470703125\n",
      "epoch 3100 loss: -606.9642333984375\n",
      "epoch 3200 loss: -607.8763427734375\n",
      "epoch 3300 loss: -608.7106323242188\n",
      "epoch 3400 loss: -609.4525146484375\n",
      "epoch 3500 loss: -610.0877685546875\n",
      "epoch 3600 loss: -610.6427612304688\n",
      "epoch 3700 loss: -611.1489868164062\n",
      "epoch 3800 loss: -611.6343994140625\n",
      "epoch 3900 loss: -612.12548828125\n",
      "epoch 4000 loss: -612.6442260742188\n"
     ]
    }
   ],
   "source": [
    "# optimization\n",
    "optimizer = optax.adam(learning_rate=0.001)\n",
    "\n",
    "parameters, optimizer_state = inference.point_estimate(\n",
    "    transformation=model_transformation,\n",
    "    loss_function=inference.ridge_loss,\n",
    "    parameters=parameters,\n",
    "    dataset=dataset,\n",
    "    epochs=4001,\n",
    "    optimizer=optimizer,\n",
    "    report_at=100\n",
    ")"
   ]
  },
  {
   "cell_type": "code",
   "execution_count": 6,
   "id": "8179ea90-3c8f-4b2c-a389-20d0b8aa18cb",
   "metadata": {},
   "outputs": [
    {
     "name": "stdout",
     "output_type": "stream",
     "text": [
      "[[-0.17412196 -0.17247376  0.17192626  0.26754424  0.17573065 -1.5346704\n",
      "  -0.1790924  -0.8253782   0.2534658   0.842694    0.29867858  0.02007787\n",
      "   0.09585898  0.00340311  0.19816263  0.11137915 -0.15151574 -0.13881058\n",
      "   0.12762271  0.46622205  0.153843   -2.5089529  -0.18335508  1.4831903\n",
      "   0.4418061  -2.6992178   0.6281923   0.12645388  0.10808835 -0.1303902\n",
      "   0.32628858  0.11864181 -0.385168    0.1756121   0.17784443 -0.18076837\n",
      "  -0.29932702 -0.17666951 -1.6452835   0.1716566  -1.1797965  -0.2771717\n",
      "  -1.2043945  -0.46491402  0.18275805  0.17620094 -0.17432413 -0.18498608\n",
      "   0.2299232 ]]\n",
      "(128, 1) (1, 49)\n"
     ]
    },
    {
     "name": "stderr",
     "output_type": "stream",
     "text": [
      "100%|██████████████████████████████████████████████████████████████████████████████████████████████████████████████████████| 1/1 [00:00<00:00,  2.47it/s]\n"
     ]
    },
    {
     "data": {
      "image/png": "[encoded data removed]",
      "text/plain": [
       "<Figure size 1200x400 with 1 Axes>"
      ]
     },
     "execution_count": 6,
     "metadata": {},
     "output_type": "execute_result"
    }
   ],
   "source": [
    "parameters_transformation = jax.tree_util.tree_reduce(lambda a, b: jnp.concatenate([a.flatten(), b.flatten()]), parameters[\"transformation\"])[jnp.newaxis]\n",
    "print(parameters_transformation)\n",
    "\n",
    "figure = visualization.RegressionFigure(\n",
    "    settings=settings.SettingsRegressionFigure(\n",
    "        settings_plot=settings.SettingsPlot(\n",
    "            alpha=1.0,\n",
    "            aleatoric=True\n",
    "        )\n",
    "    ),\n",
    ")\n",
    "figure.plot(dataset=dataset, transformation=model_transformation.apply_from_vector, parameters_list=[parameters_transformation], std=jnp.exp(parameters[\"log_std\"]))"
   ]
  },
  {
   "cell_type": "code",
   "execution_count": null,
   "id": "af3c7821",
   "metadata": {},
   "outputs": [],
   "source": []
  }
 ],
 "metadata": {
  "kernelspec": {
   "display_name": "Python 3 (ipykernel)",
   "language": "python",
   "name": "python3"
  },
  "language_info": {
   "codemirror_mode": {
    "name": "ipython",
    "version": 3
   },
   "file_extension": ".py",
   "mimetype": "text/x-python",
   "name": "python",
   "nbconvert_exporter": "python",
   "pygments_lexer": "ipython3",
   "version": "3.10.5"
  }
 },
 "nbformat": 4,
 "nbformat_minor": 5
}
