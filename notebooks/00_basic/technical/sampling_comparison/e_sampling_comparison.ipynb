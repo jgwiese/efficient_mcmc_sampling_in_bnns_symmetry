{
 "cells": [
  {
   "cell_type": "code",
   "execution_count": 1,
   "id": "d84e754f-d136-44df-9cbb-0b28207c019e",
   "metadata": {},
   "outputs": [
    {
     "name": "stdout",
     "output_type": "stream",
     "text": [
      "result_torch_1024_16384_1_20.pkl\n"
     ]
    },
    {
     "name": "stderr",
     "output_type": "stream",
     "text": [
      "WARNING:absl:No GPU/TPU found, falling back to CPU. (Set TF_CPP_MIN_LOG_LEVEL=0 and rerun for more info.)\n"
     ]
    },
    {
     "name": "stdout",
     "output_type": "stream",
     "text": [
      "1\n"
     ]
    }
   ],
   "source": [
    "BACKEND = \"torch\" # 13 to go for 2**14 torch\n",
    "NUM_WARMUP = 2**10\n",
    "NUM_SAMPLES = 2**14\n",
    "NUM_CHAINS = 1\n",
    "NUM_REPS = 20\n",
    "JIT = False  # Does not seem to have a big impact on the speed in my case.\n",
    "\n",
    "fname = \"result_{}_{}_{}_{}_{}.pkl\".format(\n",
    "    BACKEND,\n",
    "    NUM_WARMUP,\n",
    "    NUM_SAMPLES,\n",
    "    NUM_CHAINS,\n",
    "    NUM_REPS\n",
    ")\n",
    "if JIT:\n",
    "    fname = \"jit_\" + fname\n",
    "print(fname)\n",
    "\n",
    "%load_ext autoreload\n",
    "%autoreload 2\n",
    "%matplotlib agg\n",
    "\n",
    "if BACKEND == \"torch\":\n",
    "    import pyro as pyro\n",
    "    from pyro import distributions as dist\n",
    "    from pyro.infer import MCMC, NUTS\n",
    "elif BACKEND==\"jax\":\n",
    "    import numpyro as pyro\n",
    "    from numpyro import distributions as dist\n",
    "    from numpyro.infer import MCMC, NUTS\n",
    "    pyro.set_platform(\"cpu\")\n",
    "    pyro.set_host_device_count(NUM_CHAINS)\n",
    "else:\n",
    "    pass\n",
    "\n",
    "import pickle\n",
    "import time\n",
    "import visualization\n",
    "from data import datasets\n",
    "\n",
    "import torch\n",
    "import numpy as np\n",
    "import jax\n",
    "import jax.numpy as jnp\n",
    "\n",
    "rng_key = jax.random.PRNGKey(0)\n",
    "print(jax.local_device_count())"
   ]
  },
  {
   "cell_type": "code",
   "execution_count": 2,
   "id": "7b3a56ab-7be4-43dc-a2b3-aeea75c1e307",
   "metadata": {},
   "outputs": [
    {
     "data": {
      "image/png": "[encoded data removed]",
      "text/plain": [
       "<Figure size 800x800 with 1 Axes>"
      ]
     },
     "execution_count": 2,
     "metadata": {},
     "output_type": "execute_result"
    }
   ],
   "source": [
    "rng_key, rng_key_ = jax.random.split(rng_key)\n",
    "dataset = datasets.Sinusoidal(normalization=\"standardization\", rng_key=rng_key_)\n",
    "X_train, y_train = dataset[:]\n",
    "\n",
    "if BACKEND == \"torch\":\n",
    "    X_train = torch.from_numpy(np.array(X_train))\n",
    "    y_train = torch.from_numpy(np.array(y_train))\n",
    "\n",
    "figure = visualization.TriangleFigure(\n",
    "    prefix=\"x\", ax_width=4, ax_height=4,\n",
    "    settings=visualization.TriangleSettings(univariate=False)\n",
    ")\n",
    "figure.plot(data=dataset.data)"
   ]
  },
  {
   "cell_type": "code",
   "execution_count": 3,
   "id": "ea94d072-feb0-4fab-8dbd-56f166293e6e",
   "metadata": {},
   "outputs": [],
   "source": [
    "class NN:\n",
    "    def __init__(self):\n",
    "        pass\n",
    "    \n",
    "    def forward(self, parameters, inputs):\n",
    "        j = 0\n",
    "        layers=[1, 2, 1]\n",
    "        for i in range(len(layers) - 1):\n",
    "            j_new = j + (layers[i] + 1) * layers[i + 1]\n",
    "            weight = parameters[j:j_new - layers[i + 1]].reshape((layers[i + 1], layers[i]))\n",
    "            bias = parameters[j_new - layers[i + 1]:j_new].reshape((layers[i + 1]))\n",
    "            j = j_new\n",
    "            \n",
    "            # apply transformations\n",
    "            if BACKEND == \"jax\":\n",
    "                inputs = jnp.add(jnp.matmul(inputs, weight.T), bias)\n",
    "                if i < (len(layers) - 2):\n",
    "                    inputs = jnp.tanh(inputs)\n",
    "            elif BACKEND == \"torch\":\n",
    "                inputs = torch.add(torch.matmul(inputs, weight.T), bias)\n",
    "                if i < (len(layers) - 2):\n",
    "                    inputs = torch.tanh(inputs)\n",
    "            else:\n",
    "                continue\n",
    "        \n",
    "        return inputs"
   ]
  },
  {
   "cell_type": "code",
   "execution_count": 4,
   "id": "95d02567-a0a7-4192-b930-f8220b8eabfd",
   "metadata": {},
   "outputs": [],
   "source": [
    "def model(fn, X, y):\n",
    "    parameters_size = 7 #sum(map(lambda i: (layers[i] + 1) * layers[i + 1], range(len(layers) - 1)))\n",
    "    if BACKEND == \"torch\":\n",
    "        w = pyro.sample(\"w\", dist.Normal(torch.zeros(parameters_size), torch.ones(parameters_size)))\n",
    "    elif BACKEND == \"jax\":\n",
    "        w = pyro.sample(\"w\", dist.Normal(jnp.zeros(parameters_size), jnp.ones(parameters_size)))\n",
    "    else:\n",
    "        pass\n",
    "    \n",
    "    outputs = fn(parameters=w, inputs=X)\n",
    "    logstd_ll = pyro.sample(\"logstd_ll\", dist.Normal(0.0, 1.0))  # TODO: Try LogNormal\n",
    "    \n",
    "    if BACKEND == \"torch\":\n",
    "        std_ll = torch.exp(logstd_ll)\n",
    "    elif BACKEND == \"jax\":\n",
    "        std_ll = jnp.exp(logstd_ll)\n",
    "    else:\n",
    "        pass\n",
    "    \n",
    "    # observe data\n",
    "    with pyro.plate(\"data\", size=X.shape[0], dim=-2):\n",
    "        return pyro.sample(\"outputs\", dist.Normal(outputs, std_ll), obs=y)"
   ]
  },
  {
   "cell_type": "code",
   "execution_count": 5,
   "id": "26493dd5-d4b4-4446-bb0c-1e2ae9447a42",
   "metadata": {},
   "outputs": [],
   "source": [
    "def infer(rng_key, num_warmup, num_samples, num_chains, model, nn, X, y):\n",
    "    start = time.time()\n",
    "    \n",
    "    if BACKEND == \"torch\":\n",
    "        kernel = NUTS(model, jit_compile=JIT)\n",
    "        mcmc = MCMC(kernel, warmup_steps=num_warmup, num_samples=num_samples, num_chains=num_chains,)\n",
    "        mcmc.run(nn, X_train, y_train)\n",
    "    elif BACKEND == \"jax\":\n",
    "        kernel = NUTS(model)\n",
    "        mcmc = MCMC(kernel, num_warmup=num_warmup, num_samples=num_samples, num_chains=num_chains,\n",
    "                    #chain_method=\"parallel\",\n",
    "                    #jit_model_args=True,\n",
    "                    progress_bar=True\n",
    "                   )\n",
    "        mcmc.run(rng_key, nn, X_train, y_train)\n",
    "    else:\n",
    "        pass\n",
    "    \n",
    "    time_difference = time.time() - start\n",
    "    print(\"\\nMCMC elapsed time:\", time_difference)\n",
    "    return mcmc, time_difference"
   ]
  },
  {
   "cell_type": "code",
   "execution_count": null,
   "id": "d3a5b43f-55a0-4ad4-ad47-18e2e4efc752",
   "metadata": {
    "tags": []
   },
   "outputs": [],
   "source": [
    "samples_per_chain = int(1.0 * NUM_SAMPLES / NUM_CHAINS)\n",
    "result = {\n",
    "    \"num_warmup\": NUM_WARMUP,\n",
    "    \"num_chains\": NUM_CHAINS,\n",
    "    \"samples_per_chain\": samples_per_chain,\n",
    "    \"times\": [],\n",
    "    \"samples\": []\n",
    "}\n",
    "\n",
    "for i in range(NUM_REPS):\n",
    "    result = pickle.load(open(\"output/{}\".format(fname), \"rb\"))\n",
    "    rng_key, rng_key_ = jax.random.split(rng_key)\n",
    "    nn = NN()\n",
    "    mcmc, time_difference = infer(\n",
    "        rng_key=rng_key_,\n",
    "        num_warmup=NUM_WARMUP,\n",
    "        num_samples=samples_per_chain,\n",
    "        num_chains=NUM_CHAINS,\n",
    "        model=model,\n",
    "        nn=nn.forward,\n",
    "        X=X_train,\n",
    "        y=y_train\n",
    "    )\n",
    "    samples = mcmc.get_samples()\n",
    "    result[\"times\"].append(time_difference)\n",
    "    result[\"samples\"].append(samples)\n",
    "    pickle.dump(result, open(\"output/{}\".format(fname), \"wb\"))"
   ]
  },
  {
   "cell_type": "code",
   "execution_count": 14,
   "id": "747591d2-a88b-40a9-a5b0-d88a0c7b3402",
   "metadata": {},
   "outputs": [],
   "source": [
    "pickle.dump(result, open(\"output/{}\".format(fname), \"wb\"))"
   ]
  },
  {
   "cell_type": "code",
   "execution_count": null,
   "id": "0c901755-f2e1-4b85-8bce-0deba488636b",
   "metadata": {},
   "outputs": [],
   "source": [
    "ws_original = result[\"samples\"][0][\"w\"]\n",
    "logstds = result[\"samples\"][0][\"logstd_ll\"]\n",
    "if BACKEND == \"torch\":\n",
    "    ws_original = jnp.array(ws_original.numpy())\n",
    "    logstds = jnp.array(logstds.numpy())\n",
    "ws = jax.random.permutation(rng_key, ws_original)\n",
    "logstds_mean = jnp.mean(logstds)"
   ]
  },
  {
   "cell_type": "code",
   "execution_count": null,
   "id": "5f0b4e2d-7f49-4d70-b888-71627bbab7b0",
   "metadata": {},
   "outputs": [],
   "source": [
    "figure = visualization.TriangleFigure(\n",
    "    prefix=r\"\\theta\",\n",
    "    settings=visualization.TriangleSettings(\n",
    "        scatter_settings=visualization.ScatterSettings(alpha=0.1),\n",
    "        univariate=False\n",
    "    )\n",
    ")\n",
    "figure.plot(data=ws[:4096])"
   ]
  },
  {
   "cell_type": "code",
   "execution_count": null,
   "id": "0524d939-66a6-4e52-af00-2a86c5bc62ab",
   "metadata": {},
   "outputs": [],
   "source": [
    "#regression_figure = visualization.RegressionFigure(width=4, height=4)\n",
    "#regression_figure.plot(data=jnp.stack([np.array(X_train), np.array(y_train)], axis=-1), transformation=NN().forward, parameters=ws[:1024], logstd=logstds_mean)"
   ]
  },
  {
   "cell_type": "code",
   "execution_count": null,
   "id": "28ceef0f-72da-4948-a61c-b2e382a6f6aa",
   "metadata": {},
   "outputs": [],
   "source": [
    "# TODO: CHECK THIS: https://jax.readthedocs.io/en/latest/profiling.html"
   ]
  }
 ],
 "metadata": {
  "kernelspec": {
   "display_name": "Python 3",
   "language": "python",
   "name": "python3"
  },
  "language_info": {
   "codemirror_mode": {
    "name": "ipython",
    "version": 3
   },
   "file_extension": ".py",
   "mimetype": "text/x-python",
   "name": "python",
   "nbconvert_exporter": "python",
   "pygments_lexer": "ipython3",
   "version": "3.9.7"
  }
 },
 "nbformat": 4,
 "nbformat_minor": 5
}
