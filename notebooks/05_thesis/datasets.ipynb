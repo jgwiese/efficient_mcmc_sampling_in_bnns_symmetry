{
 "cells": [
  {
   "cell_type": "code",
   "execution_count": 1,
   "id": "852c9aa9",
   "metadata": {},
   "outputs": [],
   "source": [
    "%load_ext autoreload\n",
    "%autoreload 2\n",
    "%matplotlib agg\n",
    "\n",
    "import os\n",
    "import jax\n",
    "import jax.numpy as jnp\n",
    "import visualization\n",
    "from utils import results, experiments, settings\n",
    "import global_settings"
   ]
  },
  {
   "cell_type": "code",
   "execution_count": 2,
   "id": "bcd428e9",
   "metadata": {},
   "outputs": [
    {
     "name": "stdout",
     "output_type": "stream",
     "text": [
      "normalized probabilities: [0.5665243  0.3504857  0.08298998]\n"
     ]
    }
   ],
   "source": [
    "selection = \"sinusoidal\"\n",
    "\n",
    "if selection == \"sinusoidal\":\n",
    "    path = \"/home/gw/data/experiments/master_thesis/results/6fad5c77c6e4fcd72601720d57bf25fb.tar.gz\"\n",
    "elif selection == \"izmailov\":\n",
    "    path = \"/home/gw/data/experiments/master_thesis/results/c7a0f43090df6ada8839956d7b320aec.tar.gz\"\n",
    "elif selection == \"regression2d\":\n",
    "    path = \"/home/gw/data/experiments/master_thesis/results/c6835cefcab68b58b6f07158f1137c83.tar.gz\"\n",
    "else:\n",
    "    pass\n",
    "\n",
    "result = results.ResultSample.load_from_file(path)\n",
    "experiment = experiments.FactoryExperiment(result.experiment_type, **{\"settings\": result.settings})()"
   ]
  },
  {
   "cell_type": "code",
   "execution_count": 3,
   "id": "ab44dcb5",
   "metadata": {},
   "outputs": [
    {
     "name": "stdout",
     "output_type": "stream",
     "text": [
      "samples_parameters_fs.shape (1274, 22)\n"
     ]
    },
    {
     "data": {
      "image/png": "[encoded data removed]",
      "text/plain": [
       "<Figure size 1200x400 with 1 Axes>"
      ]
     },
     "execution_count": 3,
     "metadata": {},
     "output_type": "execute_result"
    }
   ],
   "source": [
    "rng_key, rng_key_ = jax.random.split(jax.random.PRNGKey(0))\n",
    "samples_parameters_fs = jax.random.permutation(rng_key_, result.samples[\"parameters\"])\n",
    "print(\"samples_parameters_fs.shape\", samples_parameters_fs.shape)\n",
    "\n",
    "n = 2**10\n",
    "if len(experiment._dataset.conditional_indices) > 1:\n",
    "    n = 2**4\n",
    "\n",
    "figure = visualization.RegressionFigure(\n",
    "    settings=settings.SettingsRegressionFigure(\n",
    "        settings_plot=settings.SettingsPlot(\n",
    "            alpha=0.08,\n",
    "            epistemic=False\n",
    "        )\n",
    "    )\n",
    ")\n",
    "figure.plot(\n",
    "    dataset=experiment._dataset,\n",
    "    transformation=experiment._model_transformation.apply_from_vector,\n",
    "    parameters_list=None,\n",
    "    std=result.samples[\"std\"].mean()\n",
    ")"
   ]
  },
  {
   "cell_type": "code",
   "execution_count": 4,
   "id": "dead209d",
   "metadata": {},
   "outputs": [],
   "source": [
    "output_path = os.path.join(global_settings.PATH_THESIS, \"figures\")\n",
    "name = \"dataset_{}.pdf\".format(selection)\n",
    "figure._figure.savefig(os.path.join(output_path, name), bbox_inches=\"tight\")"
   ]
  }
 ],
 "metadata": {
  "kernelspec": {
   "display_name": "Python 3 (ipykernel)",
   "language": "python",
   "name": "python3"
  },
  "language_info": {
   "codemirror_mode": {
    "name": "ipython",
    "version": 3
   },
   "file_extension": ".py",
   "mimetype": "text/x-python",
   "name": "python",
   "nbconvert_exporter": "python",
   "pygments_lexer": "ipython3",
   "version": "3.10.5"
  }
 },
 "nbformat": 4,
 "nbformat_minor": 5
}
