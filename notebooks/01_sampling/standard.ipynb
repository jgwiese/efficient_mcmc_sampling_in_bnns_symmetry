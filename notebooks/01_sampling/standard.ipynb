{
 "cells": [
  {
   "cell_type": "code",
   "execution_count": 1,
   "id": "fd6688c8",
   "metadata": {},
   "outputs": [],
   "source": [
    "%load_ext autoreload\n",
    "%autoreload 2\n",
    "%matplotlib agg\n",
    "\n",
    "\n",
    "import global_settings\n",
    "from utils import settings, experiments, results\n",
    "import jax\n",
    "from multiprocessing import Pool\n",
    "from tqdm import tqdm\n",
    "import jax.numpy as jnp\n",
    "import os"
   ]
  },
  {
   "cell_type": "code",
   "execution_count": 1,
   "id": "38fad5f8",
   "metadata": {},
   "outputs": [
    {
     "ename": "NameError",
     "evalue": "name 'experiments' is not defined",
     "output_type": "error",
     "traceback": [
      "\u001b[0;31m---------------------------------------------------------------------------\u001b[0m",
      "\u001b[0;31mNameError\u001b[0m                                 Traceback (most recent call last)",
      "Input \u001b[0;32mIn [1]\u001b[0m, in \u001b[0;36m<cell line: 1>\u001b[0;34m()\u001b[0m\n\u001b[0;32m----> 1\u001b[0m experiment \u001b[38;5;241m=\u001b[39m \u001b[43mexperiments\u001b[49m\u001b[38;5;241m.\u001b[39mExperimentSampleStandard(\n\u001b[1;32m      2\u001b[0m     settings\u001b[38;5;241m=\u001b[39msettings\u001b[38;5;241m.\u001b[39mSettingsExperimentSample(\n\u001b[1;32m      3\u001b[0m         output_path\u001b[38;5;241m=\u001b[39mglobal_settings\u001b[38;5;241m.\u001b[39mPATH_RESULTS_FIXED,\n\u001b[1;32m      4\u001b[0m         dataset\u001b[38;5;241m=\u001b[39m\u001b[38;5;124m\"\u001b[39m\u001b[38;5;124msinusoidal\u001b[39m\u001b[38;5;124m\"\u001b[39m,\n\u001b[1;32m      5\u001b[0m         dataset_normalization\u001b[38;5;241m=\u001b[39m\u001b[38;5;124m\"\u001b[39m\u001b[38;5;124mstandardization\u001b[39m\u001b[38;5;124m\"\u001b[39m,\n\u001b[1;32m      6\u001b[0m         hidden_layers\u001b[38;5;241m=\u001b[39m\u001b[38;5;241m1\u001b[39m,\n\u001b[1;32m      7\u001b[0m         hidden_neurons\u001b[38;5;241m=\u001b[39m\u001b[38;5;241m3\u001b[39m,\n\u001b[1;32m      8\u001b[0m         activation\u001b[38;5;241m=\u001b[39m\u001b[38;5;124m\"\u001b[39m\u001b[38;5;124mtanh\u001b[39m\u001b[38;5;124m\"\u001b[39m,\n\u001b[1;32m      9\u001b[0m         activation_last_layer\u001b[38;5;241m=\u001b[39m\u001b[38;5;124m\"\u001b[39m\u001b[38;5;124mnone\u001b[39m\u001b[38;5;124m\"\u001b[39m,\n\u001b[1;32m     10\u001b[0m         num_warmup\u001b[38;5;241m=\u001b[39m\u001b[38;5;241m2\u001b[39m\u001b[38;5;241m*\u001b[39m\u001b[38;5;241m*\u001b[39m\u001b[38;5;241m10\u001b[39m,\n\u001b[1;32m     11\u001b[0m         statistic\u001b[38;5;241m=\u001b[39m\u001b[38;5;124m\"\u001b[39m\u001b[38;5;124mreduced\u001b[39m\u001b[38;5;124m\"\u001b[39m,\n\u001b[1;32m     12\u001b[0m         statistic_p\u001b[38;5;241m=\u001b[39m\u001b[38;5;241m0.95\u001b[39m,\n\u001b[1;32m     13\u001b[0m         samples_per_chain\u001b[38;5;241m=\u001b[39m\u001b[38;5;241m64\u001b[39m,\n\u001b[1;32m     14\u001b[0m         identifiable_modes\u001b[38;5;241m=\u001b[39m\u001b[38;5;241m4\u001b[39m,\n\u001b[1;32m     15\u001b[0m         pool_size\u001b[38;5;241m=\u001b[39m\u001b[38;5;241m8\u001b[39m,\n\u001b[1;32m     16\u001b[0m         seed\u001b[38;5;241m=\u001b[39m\u001b[38;5;241m0\u001b[39m\n\u001b[1;32m     17\u001b[0m     )\n\u001b[1;32m     18\u001b[0m )\n",
      "\u001b[0;31mNameError\u001b[0m: name 'experiments' is not defined"
     ]
    }
   ],
   "source": [
    "experiment = experiments.ExperimentSampleStandard(\n",
    "    settings=settings.SettingsExperimentSample(\n",
    "        output_path=global_settings.PATH_RESULTS,\n",
    "        dataset=\"sinusoidal\",\n",
    "        dataset_normalization=\"standardization\",\n",
    "        hidden_layers=1,\n",
    "        hidden_neurons=3,\n",
    "        activation=\"tanh\",\n",
    "        activation_last_layer=\"none\",\n",
    "        num_warmup=2**10,\n",
    "        statistic=\"reduced\",\n",
    "        statistic_p=0.95,\n",
    "        samples_per_chain=64,\n",
    "        identifiable_modes=3,\n",
    "        pool_size=8,\n",
    "        seed=0\n",
    "    )\n",
    ")"
   ]
  },
  {
   "cell_type": "raw",
   "id": "11e65d1c",
   "metadata": {},
   "source": [
    "experiment.run()"
   ]
  },
  {
   "cell_type": "code",
   "execution_count": 3,
   "id": "af5b89ff",
   "metadata": {},
   "outputs": [
    {
     "name": "stdout",
     "output_type": "stream",
     "text": [
      "model transformation parameters 10\n"
     ]
    },
    {
     "name": "stderr",
     "output_type": "stream",
     "text": [
      "100%|██████████████████████████████████████████████████████████████████████████████████████████████████████████████████████████████████████████████████████| 256/256 [01:22<00:00,  3.09it/s]\n"
     ]
    }
   ],
   "source": [
    "print(\"model transformation parameters {}\".format(experiment._model_transformation.parameters_size(experiment._dataset[0][0])))\n",
    "\n",
    "def run_parallel(key):\n",
    "    experiment.sample(key)\n",
    "    return experiment._mcmc.get_samples()\n",
    "\n",
    "rng_key, *sub_keys = jax.random.split(jax.random.PRNGKey(experiment._settings.seed), experiment._sample_statistics[\"num_chains\"] + 1)\n",
    "with Pool(experiment._settings.pool_size) as p:\n",
    "    samples_parallel = list(tqdm(p.imap(run_parallel, sub_keys), total=experiment._sample_statistics[\"num_chains\"]))\n",
    "\n",
    "samples = {}\n",
    "for samples_run in samples_parallel:\n",
    "    for key in samples_run.keys():\n",
    "        if key not in samples:\n",
    "            samples[key] = samples_run[key]\n",
    "        else:\n",
    "            samples[key] = jnp.concatenate([samples[key], samples_run[key]])\n",
    "experiment._samples = samples"
   ]
  },
  {
   "cell_type": "code",
   "execution_count": 4,
   "id": "fdaca788",
   "metadata": {
    "scrolled": false
   },
   "outputs": [
    {
     "name": "stdout",
     "output_type": "stream",
     "text": [
      "saved as /home/gw/data/experiments/master_thesis/results/a56e8931b3053cae46976f278ea7f82a.tar.gz\n"
     ]
    }
   ],
   "source": [
    "print(f\"saved as {experiment.save()}\")"
   ]
  }
 ],
 "metadata": {
  "kernelspec": {
   "display_name": "Python 3 (ipykernel)",
   "language": "python",
   "name": "python3"
  },
  "language_info": {
   "codemirror_mode": {
    "name": "ipython",
    "version": 3
   },
   "file_extension": ".py",
   "mimetype": "text/x-python",
   "name": "python",
   "nbconvert_exporter": "python",
   "pygments_lexer": "ipython3",
   "version": "3.10.5"
  }
 },
 "nbformat": 4,
 "nbformat_minor": 5
}
