{
 "cells": [
  {
   "cell_type": "code",
   "execution_count": 1,
   "id": "fd6688c8",
   "metadata": {},
   "outputs": [
    {
     "name": "stderr",
     "output_type": "stream",
     "text": [
      "WARNING:absl:No GPU/TPU found, falling back to CPU. (Set TF_CPP_MIN_LOG_LEVEL=0 and rerun for more info.)\n"
     ]
    }
   ],
   "source": [
    "%load_ext autoreload\n",
    "%autoreload 2\n",
    "%matplotlib agg\n",
    "\n",
    "\n",
    "import global_settings\n",
    "from utils import experiments, results\n",
    "import jax\n",
    "from multiprocessing import Pool\n",
    "from tqdm import tqdm\n",
    "import jax.numpy as jnp\n",
    "import os\n",
    "rng_key, rng_key_ = jax.random.split(jax.random.PRNGKey(0))\n",
    "dataset_names = [\n",
    "    'airfoil',\n",
    "    'boston',\n",
    "    'concrete',\n",
    "    'diabetes',\n",
    "    'energy',\n",
    "    'forest_fire',\n",
    "    'wine',\n",
    "    'yacht'\n",
    "]"
   ]
  },
  {
   "cell_type": "code",
   "execution_count": 3,
   "id": "2642fe95",
   "metadata": {},
   "outputs": [],
   "source": [
    "experiment = experiments.ExperimentSampleStandard(\n",
    "    settings=experiments.settings.SettingsExperimentSample(\n",
    "        output_path=global_settings.PATH_PAPER_RESULTS,\n",
    "        dataset=global_settings.DATASET_NAMES[0],\n",
    "        dataset_normalization=\"standardization\",\n",
    "        hidden_layers=1,\n",
    "        hidden_neurons=3,\n",
    "        activation=\"tanh\",\n",
    "        activation_last_layer=\"none\",\n",
    "        num_warmup=2**10,\n",
    "        statistic=\"reduced\",\n",
    "        statistic_p=0.99,\n",
    "        samples_per_chain=1,\n",
    "        identifiable_modes=3,\n",
    "        pool_size=2,\n",
    "        seed=0,\n",
    "        overwrite_chains=None\n",
    "    )\n",
    ")"
   ]
  },
  {
   "cell_type": "raw",
   "id": "96b68f34",
   "metadata": {},
   "source": [
    "samples = experiment.sample(rng_key_)"
   ]
  },
  {
   "cell_type": "raw",
   "id": "9981ce78",
   "metadata": {},
   "source": [
    "experiment.run()"
   ]
  },
  {
   "cell_type": "code",
   "execution_count": 4,
   "id": "39d7cb10",
   "metadata": {},
   "outputs": [
    {
     "name": "stdout",
     "output_type": "stream",
     "text": [
      "model transformation parameters 10\n"
     ]
    },
    {
     "name": "stderr",
     "output_type": "stream",
     "text": [
      "100%|█████████████████████████████████████████████████████████████████████████████████████| 1274/1274 [08:54<00:00,  2.38it/s]\n"
     ]
    }
   ],
   "source": [
    "print(\"model transformation parameters {}\".format(experiment._model_transformation.parameters_size(experiment._dataset[0][0])))\n",
    "\n",
    "def run_parallel(key):\n",
    "    experiment.sample(key)\n",
    "    return experiment._mcmc.get_samples()\n",
    "\n",
    "rng_key, *sub_keys = jax.random.split(jax.random.PRNGKey(experiment._settings.seed), experiment._sample_statistics[\"num_chains\"] + 1)\n",
    "with Pool(experiment._settings.pool_size) as p:\n",
    "    samples_parallel = list(tqdm(p.imap(run_parallel, sub_keys), total=experiment._sample_statistics[\"num_chains\"]))\n",
    "\n",
    "samples = {}\n",
    "for samples_run in samples_parallel:\n",
    "    for key in samples_run.keys():\n",
    "        if key not in samples:\n",
    "            samples[key] = samples_run[key]\n",
    "        else:\n",
    "            samples[key] = jnp.concatenate([samples[key], samples_run[key]])\n",
    "experiment._samples = samples"
   ]
  },
  {
   "cell_type": "code",
   "execution_count": 5,
   "id": "bbbbd1a5",
   "metadata": {},
   "outputs": [
    {
     "name": "stdout",
     "output_type": "stream",
     "text": [
      "saved as /home/gw/data/experiments/paper/results/cd75123389f8789603a02650aaa042de.tar.gz\n"
     ]
    }
   ],
   "source": [
    "print(f\"saved as {experiment.save()}\")"
   ]
  }
 ],
 "metadata": {
  "kernelspec": {
   "display_name": "Python 3 (ipykernel)",
   "language": "python",
   "name": "python3"
  },
  "language_info": {
   "codemirror_mode": {
    "name": "ipython",
    "version": 3
   },
   "file_extension": ".py",
   "mimetype": "text/x-python",
   "name": "python",
   "nbconvert_exporter": "python",
   "pygments_lexer": "ipython3",
   "version": "3.10.10"
  }
 },
 "nbformat": 4,
 "nbformat_minor": 5
}
