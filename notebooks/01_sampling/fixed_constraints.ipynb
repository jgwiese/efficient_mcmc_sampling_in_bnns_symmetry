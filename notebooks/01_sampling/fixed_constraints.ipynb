{
 "cells": [
  {
   "cell_type": "code",
   "execution_count": 1,
   "id": "953e7105",
   "metadata": {},
   "outputs": [],
   "source": [
    "%load_ext autoreload\n",
    "%autoreload 2\n",
    "%matplotlib agg\n",
    "\n",
    "\n",
    "import global_settings\n",
    "from utils import settings, experiments, results\n",
    "import jax\n",
    "from multiprocessing import Pool\n",
    "from tqdm import tqdm\n",
    "import jax.numpy as jnp\n",
    "import os"
   ]
  },
  {
   "cell_type": "code",
   "execution_count": 2,
   "id": "78199b70",
   "metadata": {},
   "outputs": [],
   "source": [
    "experiment = experiments.ExperimentSampleConstrained(\n",
    "    settings=settings.SettingsExperimentSample(\n",
    "        output_path=global_settings.PATH_RESULTS,\n",
    "        dataset=\"sinusoidal\",\n",
    "        dataset_normalization=\"standardization\",\n",
    "        hidden_layers=1,\n",
    "        hidden_neurons=3,\n",
    "        activation=\"tanh\",\n",
    "        activation_last_layer=\"none\",\n",
    "        num_warmup=2**10,\n",
    "        statistic=\"reduced\",\n",
    "        statistic_p=0.95,\n",
    "        samples_per_mode=64,\n",
    "        identifiable_modes=4,\n",
    "        pool_size=8,\n",
    "        seed=0\n",
    "    )\n",
    ")"
   ]
  },
  {
   "cell_type": "raw",
   "id": "44aa0006",
   "metadata": {},
   "source": [
    "experiment.run()"
   ]
  },
  {
   "cell_type": "code",
   "execution_count": 3,
   "id": "84e2d1e4",
   "metadata": {},
   "outputs": [
    {
     "name": "stderr",
     "output_type": "stream",
     "text": [
      "100%|██████████████████████████████████████████████████████████████████████████████████████████████████████████████████████████████████████████████████████| 256/256 [01:17<00:00,  3.32it/s]\n"
     ]
    }
   ],
   "source": [
    "def run_parallel(key):\n",
    "    experiment.sample(key)\n",
    "    return experiment._mcmc.get_samples()\n",
    "\n",
    "rng_key, *sub_keys = jax.random.split(jax.random.PRNGKey(experiment._settings.seed), experiment._sample_statistics[\"num_chains\"] + 1)\n",
    "with Pool(experiment._settings.pool_size) as p:\n",
    "    samples_parallel = list(tqdm(p.imap(run_parallel, sub_keys), total=experiment._sample_statistics[\"num_chains\"]))\n",
    "\n",
    "samples = {}\n",
    "for samples_run in samples_parallel:\n",
    "    for key in samples_run.keys():\n",
    "        if key not in samples:\n",
    "            samples[key] = samples_run[key]\n",
    "        else:\n",
    "            samples[key] = jnp.concatenate([samples[key], samples_run[key]])\n",
    "experiment._samples = samples"
   ]
  },
  {
   "cell_type": "code",
   "execution_count": 4,
   "id": "dddb4bc9",
   "metadata": {},
   "outputs": [
    {
     "name": "stdout",
     "output_type": "stream",
     "text": [
      "saved as /home/gw/data/experiments/master_thesis/results/bd5a1e9c17b4a149e37bef8d54e2d196.tar.gz\n"
     ]
    }
   ],
   "source": [
    "print(f\"saved as {experiment.save()}\")"
   ]
  }
 ],
 "metadata": {
  "kernelspec": {
   "display_name": "Python 3 (ipykernel)",
   "language": "python",
   "name": "python3"
  },
  "language_info": {
   "codemirror_mode": {
    "name": "ipython",
    "version": 3
   },
   "file_extension": ".py",
   "mimetype": "text/x-python",
   "name": "python",
   "nbconvert_exporter": "python",
   "pygments_lexer": "ipython3",
   "version": "3.10.5"
  }
 },
 "nbformat": 4,
 "nbformat_minor": 5
}
