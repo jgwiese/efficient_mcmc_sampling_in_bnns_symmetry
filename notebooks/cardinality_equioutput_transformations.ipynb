{
 "cells": [
  {
   "cell_type": "markdown",
   "id": "ddf4275d",
   "metadata": {},
   "source": [
    "# Visualization of cardinality of equioutput transformations"
   ]
  },
  {
   "cell_type": "code",
   "execution_count": null,
   "id": "e1d71ee1",
   "metadata": {},
   "outputs": [],
   "source": [
    "%load_ext autoreload\n",
    "%autoreload 2\n",
    "%matplotlib agg\n",
    "\n",
    "import numpy as np\n",
    "import visualization\n",
    "from utils import equioutput"
   ]
  },
  {
   "cell_type": "markdown",
   "id": "a3d4a2f3",
   "metadata": {},
   "source": [
    "## Example: single layer MLP with tanh activation"
   ]
  },
  {
   "cell_type": "code",
   "execution_count": null,
   "id": "89d3c8b1",
   "metadata": {},
   "outputs": [],
   "source": [
    "max_layer_size = 128\n",
    "cardinalities = np.zeros((max_layer_size, 3), dtype=np.float64)\n",
    "\n",
    "for i in range(max_layer_size):\n",
    "    current_cardinalities = equioutput.tanh_mlp_cardinalities([i])\n",
    "    cardinalities[i, 0] = current_cardinalities[0]\n",
    "    cardinalities[i, 1] = current_cardinalities[1]\n",
    "    cardinalities[i, 2] = current_cardinalities[2]"
   ]
  },
  {
   "cell_type": "code",
   "execution_count": null,
   "id": "c459ebf7",
   "metadata": {},
   "outputs": [],
   "source": [
    "figure = visualization.CardinalityFigure(\n",
    "    settings=visualization.settings.SettingsCardinalityFigure(textsize=22)\n",
    ")\n",
    "figure.plot(cardinalities)"
   ]
  }
 ],
 "metadata": {
  "kernelspec": {
   "display_name": "Python 3 (ipykernel)",
   "language": "python",
   "name": "python3"
  },
  "language_info": {
   "codemirror_mode": {
    "name": "ipython",
    "version": 3
   },
   "file_extension": ".py",
   "mimetype": "text/x-python",
   "name": "python",
   "nbconvert_exporter": "python",
   "pygments_lexer": "ipython3",
   "version": "3.10.10"
  }
 },
 "nbformat": 4,
 "nbformat_minor": 5
}
