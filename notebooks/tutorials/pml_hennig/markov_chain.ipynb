{
 "cells": [
  {
   "cell_type": "code",
   "execution_count": 1,
   "id": "f44384a1-8e40-4b8b-8c31-619398b49044",
   "metadata": {},
   "outputs": [],
   "source": [
    "import numpyro\n",
    "import jax\n",
    "import jax.numpy as jnp\n",
    "import matplotlib.pyplot as plt\n",
    "\n",
    "rng_key = jax.random.PRNGKey(0)"
   ]
  },
  {
   "cell_type": "markdown",
   "id": "a52c9877-7ce0-4822-bd7f-b32aa94e805a",
   "metadata": {
    "tags": []
   },
   "source": [
    "# Wiener process / Brownian Motion"
   ]
  },
  {
   "cell_type": "code",
   "execution_count": 2,
   "id": "d3ef01e4-44b7-4e2e-bf3d-4ade25f34b10",
   "metadata": {},
   "outputs": [],
   "source": [
    "d = numpyro.distributions.Normal\n",
    "std = 1.0\n",
    "x0 = 0.0\n",
    "T = 32"
   ]
  },
  {
   "cell_type": "code",
   "execution_count": 3,
   "id": "a4562d45-3709-4499-abea-4eb9775aaa3c",
   "metadata": {},
   "outputs": [],
   "source": [
    "X = []\n",
    "x = x0\n",
    "\n",
    "for t in range(T):\n",
    "    rng_key, rng_key_ = jax.random.split(rng_key)\n",
    "    \n",
    "    dt = d(x, std)\n",
    "    x = dt.sample(rng_key_)\n",
    "    X.append(x)"
   ]
  },
  {
   "cell_type": "code",
   "execution_count": 4,
   "id": "555c425e-aaf6-4ab2-b9df-e8430e70c050",
   "metadata": {},
   "outputs": [
    {
     "data": {
      "text/plain": [
       "[<matplotlib.lines.Line2D at 0x7f08c462a430>]"
      ]
     },
     "execution_count": 4,
     "metadata": {},
     "output_type": "execute_result"
    },
    {
     "data": {
      "image/png": "[encoded data removed]",
      "text/plain": [
       "<Figure size 432x288 with 1 Axes>"
      ]
     },
     "metadata": {
      "needs_background": "light"
     },
     "output_type": "display_data"
    }
   ],
   "source": [
    "figure = plt.figure()\n",
    "ax = figure.add_subplot(1, 1, 1)\n",
    "ax.set_ylim(-16, 16)\n",
    "ax.scatter(jnp.arange(T), X)\n",
    "ax.plot(jnp.arange(T), X)"
   ]
  }
 ],
 "metadata": {
  "kernelspec": {
   "display_name": "Python 3 (ipykernel)",
   "language": "python",
   "name": "python3"
  },
  "language_info": {
   "codemirror_mode": {
    "name": "ipython",
    "version": 3
   },
   "file_extension": ".py",
   "mimetype": "text/x-python",
   "name": "python",
   "nbconvert_exporter": "python",
   "pygments_lexer": "ipython3",
   "version": "3.9.7"
  }
 },
 "nbformat": 4,
 "nbformat_minor": 5
}
