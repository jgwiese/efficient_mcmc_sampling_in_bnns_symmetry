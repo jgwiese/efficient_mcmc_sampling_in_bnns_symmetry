{
 "cells": [
  {
   "cell_type": "code",
   "execution_count": 1,
   "id": "special-penny",
   "metadata": {},
   "outputs": [],
   "source": [
    "import jax.numpy as jnp\n",
    "from jax import grad, jit, vmap\n",
    "from jax import random"
   ]
  },
  {
   "cell_type": "code",
   "execution_count": 2,
   "id": "israeli-divide",
   "metadata": {},
   "outputs": [
    {
     "name": "stderr",
     "output_type": "stream",
     "text": [
      "WARNING:absl:No GPU/TPU found, falling back to CPU. (Set TF_CPP_MIN_LOG_LEVEL=0 and rerun for more info.)\n"
     ]
    },
    {
     "name": "stdout",
     "output_type": "stream",
     "text": [
      "(10,)\n"
     ]
    }
   ],
   "source": [
    "key = random.PRNGKey(0)\n",
    "x = random.normal(key, (10, ))\n",
    "print(x.shape)"
   ]
  },
  {
   "cell_type": "code",
   "execution_count": 3,
   "id": "likely-pontiac",
   "metadata": {},
   "outputs": [
    {
     "name": "stdout",
     "output_type": "stream",
     "text": [
      "CPU times: user 4.74 s, sys: 106 ms, total: 4.85 s\n",
      "Wall time: 1.59 s\n",
      "hello\n"
     ]
    }
   ],
   "source": [
    "size = 3000\n",
    "x = random.normal(key, (size, size), dtype=jnp.float32)\n",
    "%time jnp.dot(x, x.T)\n",
    "print(\"hello\")"
   ]
  },
  {
   "cell_type": "code",
   "execution_count": 4,
   "id": "radio-table",
   "metadata": {},
   "outputs": [
    {
     "name": "stdout",
     "output_type": "stream",
     "text": [
      "1.43 s ± 44.7 ms per loop (mean ± std. dev. of 7 runs, 1 loop each)\n"
     ]
    }
   ],
   "source": [
    "import numpy as np\n",
    "x = np.random.normal(size=(size, size)).astype(np.float32)\n",
    "%timeit jnp.dot(x, x.T).block_until_ready()"
   ]
  },
  {
   "cell_type": "code",
   "execution_count": 5,
   "id": "latest-russell",
   "metadata": {},
   "outputs": [
    {
     "name": "stdout",
     "output_type": "stream",
     "text": [
      "CPU times: user 4.47 s, sys: 99 ms, total: 4.57 s\n",
      "Wall time: 1.38 s\n"
     ]
    },
    {
     "data": {
      "text/plain": [
       "DeviceArray([[ 3.0269419e+03,  7.0578247e+01,  3.6624695e+01, ...,\n",
       "              -2.0423191e+01, -9.6192074e+00,  7.2796245e+00],\n",
       "             [ 7.0578247e+01,  2.9739919e+03,  1.1413579e+00, ...,\n",
       "              -1.2797272e+01,  3.2100609e+01,  2.9788399e+01],\n",
       "             [ 3.6624695e+01,  1.1413579e+00,  2.9718857e+03, ...,\n",
       "              -4.9126926e+01, -2.4262154e+01,  3.4415054e+01],\n",
       "             ...,\n",
       "             [-2.0423191e+01, -1.2797272e+01, -4.9126926e+01, ...,\n",
       "               2.9759958e+03, -7.2979441e+00, -2.8910929e+01],\n",
       "             [-9.6192074e+00,  3.2100609e+01, -2.4262154e+01, ...,\n",
       "              -7.2979441e+00,  2.8355730e+03, -8.5347986e+00],\n",
       "             [ 7.2796245e+00,  2.9788399e+01,  3.4415054e+01, ...,\n",
       "              -2.8910929e+01, -8.5347986e+00,  3.0271863e+03]],            dtype=float32)"
      ]
     },
     "execution_count": 5,
     "metadata": {},
     "output_type": "execute_result"
    }
   ],
   "source": [
    "from jax import device_put\n",
    "\n",
    "x = np.random.normal(size=(size, size)).astype(np.float32)\n",
    "x = device_put(x)\n",
    "%time jnp.dot(x, x.T)"
   ]
  },
  {
   "cell_type": "code",
   "execution_count": 10,
   "id": "blessed-addiction",
   "metadata": {},
   "outputs": [
    {
     "name": "stdout",
     "output_type": "stream",
     "text": [
      "8.13 ms ± 345 µs per loop (mean ± std. dev. of 7 runs, 100 loops each)\n"
     ]
    }
   ],
   "source": [
    "def selu(x, alpha=1.67, lmbda=1.05):\n",
    "    return lmbda * jnp.where(x > 0, x, alpha * jnp.exp(x) - alpha)\n",
    "\n",
    "x = random.normal(key, (1000000, ))\n",
    "%timeit selu(x).block_until_ready()"
   ]
  },
  {
   "cell_type": "code",
   "execution_count": 11,
   "id": "41b04cde-2e17-4ece-86eb-49df1c83e97f",
   "metadata": {},
   "outputs": [
    {
     "name": "stdout",
     "output_type": "stream",
     "text": [
      "2.29 ms ± 54.2 µs per loop (mean ± std. dev. of 7 runs, 100 loops each)\n"
     ]
    }
   ],
   "source": [
    "selu_jit = jit(selu)\n",
    "%timeit selu_jit(x).block_until_ready()"
   ]
  },
  {
   "cell_type": "code",
   "execution_count": 15,
   "id": "0671c387-aea3-4171-a700-b2f22c0539af",
   "metadata": {},
   "outputs": [
    {
     "name": "stdout",
     "output_type": "stream",
     "text": [
      "[0.25       0.19661197 0.10499357]\n"
     ]
    }
   ],
   "source": [
    "def sum_logistic(x):\n",
    "    return jnp.sum(1.0 / (1.0 + jnp.exp(-x)))\n",
    "\n",
    "x_small = jnp.arange(3.0)\n",
    "derivative_fn = grad(sum_logistic)\n",
    "print(derivative_fn(x_small))"
   ]
  },
  {
   "cell_type": "code",
   "execution_count": 16,
   "id": "64a3e23d-d62d-4443-ac29-596df463dd39",
   "metadata": {},
   "outputs": [
    {
     "name": "stdout",
     "output_type": "stream",
     "text": [
      "[0.24998187 0.1964569  0.10502338]\n"
     ]
    }
   ],
   "source": [
    "def first_finite_differences(f, x):\n",
    "    eps = 1e-3\n",
    "    return jnp.array([(f(x + eps * v) - f(x - eps * v)) / (2 * eps)\n",
    "                      for v in jnp.eye(len(x))])\n",
    "\n",
    "print(first_finite_differences(sum_logistic, x_small))"
   ]
  },
  {
   "cell_type": "code",
   "execution_count": 17,
   "id": "8ba7c6cc-28e9-4718-946e-745d7e55927f",
   "metadata": {},
   "outputs": [
    {
     "name": "stdout",
     "output_type": "stream",
     "text": [
      "0.19661197\n"
     ]
    }
   ],
   "source": [
    "print(grad(grad(grad(sum_logistic)))(1.0))"
   ]
  },
  {
   "cell_type": "code",
   "execution_count": 23,
   "id": "3e736757-7ced-4a10-8882-0c51c545b905",
   "metadata": {},
   "outputs": [],
   "source": [
    "from jax import jacfwd, jacrev\n",
    "def hessian(fun):\n",
    "    return jit(jacfwd(jacrev(fun)))"
   ]
  },
  {
   "cell_type": "code",
   "execution_count": 32,
   "id": "86e0f1ca-a7a9-4bda-b77e-21d85af0a57f",
   "metadata": {},
   "outputs": [
    {
     "name": "stdout",
     "output_type": "stream",
     "text": [
      "[0.25       0.19661197 0.10499357]\n",
      "[0.25       0.19661197 0.10499357]\n"
     ]
    }
   ],
   "source": [
    "print(jacfwd(sum_logistic)(x_small))\n",
    "print(jacrev(sum_logistic)(x_small))\n",
    "\n",
    "#print(hessian(sum_logistic)(x_small))"
   ]
  },
  {
   "cell_type": "code",
   "execution_count": 33,
   "id": "85baf788-87be-4e83-b654-3b65ad3d0458",
   "metadata": {},
   "outputs": [],
   "source": [
    "mat = random.normal(key, (150, 100))\n",
    "batched_x = random.normal(key, (10, 100))\n",
    "\n",
    "def apply_matrix(v):\n",
    "    return jnp.dot(mat, v)"
   ]
  },
  {
   "cell_type": "code",
   "execution_count": 49,
   "id": "2b77708a-54fa-40dd-b5a4-ba7e363ca434",
   "metadata": {},
   "outputs": [
    {
     "name": "stdout",
     "output_type": "stream",
     "text": [
      "Naively batched\n",
      "54.5 µs ± 19.3 µs per loop (mean ± std. dev. of 7 runs, 1 loop each)\n",
      "(10, 150)\n"
     ]
    }
   ],
   "source": [
    "@jit\n",
    "def naively_batched_apply_matrix(v_batched):\n",
    "    return jnp.stack([apply_matrix(v) for v in v_batched])\n",
    "\n",
    "print(\"Naively batched\")\n",
    "%timeit naively_batched_apply_matrix(batched_x).block_until_ready()\n",
    "result = naively_batched_apply_matrix(batched_x)\n",
    "print(result.shape)"
   ]
  },
  {
   "cell_type": "code",
   "execution_count": 52,
   "id": "784c1523-1d64-4c9e-872b-49f3467487d6",
   "metadata": {},
   "outputs": [
    {
     "name": "stdout",
     "output_type": "stream",
     "text": [
      "Manually batched\n",
      "53.4 µs ± 391 ns per loop (mean ± std. dev. of 7 runs, 10,000 loops each)\n",
      "(10, 150)\n"
     ]
    }
   ],
   "source": [
    "@jit\n",
    "def batched_apply_matrix(v_batched):\n",
    "    return jnp.dot(v_batched, mat.T)\n",
    "\n",
    "print(\"Manually batched\")\n",
    "%timeit batched_apply_matrix(batched_x).block_until_ready()\n",
    "result = batched_apply_matrix(batched_x)\n",
    "print(result.shape)"
   ]
  },
  {
   "cell_type": "code",
   "execution_count": 51,
   "id": "a961d885-3dea-47f5-903d-b9b19a79579d",
   "metadata": {},
   "outputs": [
    {
     "name": "stdout",
     "output_type": "stream",
     "text": [
      "Auto-vectorized with vmap\n",
      "81.1 µs ± 695 ns per loop (mean ± std. dev. of 7 runs, 10,000 loops each)\n"
     ]
    }
   ],
   "source": [
    "@jit\n",
    "def vmap_batched_apply_matrix(v_batched):\n",
    "    return vmap(apply_matrix)(v_batched)\n",
    "\n",
    "print(\"Auto-vectorized with vmap\")\n",
    "%timeit vmap_batched_apply_matrix(batched_x).block_until_ready()"
   ]
  },
  {
   "cell_type": "code",
   "execution_count": null,
   "id": "159a6bef-7f45-4c99-b7f7-186f3b9d3a9a",
   "metadata": {},
   "outputs": [],
   "source": []
  }
 ],
 "metadata": {
  "kernelspec": {
   "display_name": "Python 3 (ipykernel)",
   "language": "python",
   "name": "python3"
  },
  "language_info": {
   "codemirror_mode": {
    "name": "ipython",
    "version": 3
   },
   "file_extension": ".py",
   "mimetype": "text/x-python",
   "name": "python",
   "nbconvert_exporter": "python",
   "pygments_lexer": "ipython3",
   "version": "3.9.7"
  }
 },
 "nbformat": 4,
 "nbformat_minor": 5
}
