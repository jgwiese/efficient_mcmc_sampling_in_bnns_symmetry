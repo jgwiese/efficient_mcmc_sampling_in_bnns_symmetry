{
 "cells": [
  {
   "cell_type": "code",
   "execution_count": 1,
   "id": "c8a63dff",
   "metadata": {},
   "outputs": [],
   "source": [
    "%load_ext autoreload\n",
    "%autoreload 2 \n",
    "%matplotlib agg\n",
    "\n",
    "import visualization\n",
    "from data import datasets, evaluation\n",
    "import transformations\n",
    "import jax\n",
    "import jax.numpy as jnp\n",
    "import flax.linen as nn\n",
    "from flax.core import freeze\n",
    "import optax\n",
    "import inference\n",
    "from utils import settings\n",
    "import numpy as np\n",
    "import os\n",
    "import global_settings\n",
    "\n",
    "rng_key = jax.random.PRNGKey(0)\n",
    "fraction = 0.2"
   ]
  },
  {
   "cell_type": "markdown",
   "id": "f1f2f078",
   "metadata": {},
   "source": [
    "# Benchmark"
   ]
  },
  {
   "cell_type": "code",
   "execution_count": 2,
   "id": "4ce41e51",
   "metadata": {},
   "outputs": [],
   "source": [
    "dataset_list =[\n",
    "    os.path.join(\n",
    "        os.path.join(global_settings.PATH_DATASETS, \"benchmark_data\"),\n",
    "        file_name) for file_name in os.listdir(\"/home/gw/data/datasets/benchmark_data/\") if file_name.split('.')[-1] == \"data\"\n",
    "]"
   ]
  },
  {
   "cell_type": "code",
   "execution_count": 3,
   "id": "a6f25497",
   "metadata": {},
   "outputs": [
    {
     "name": "stdout",
     "output_type": "stream",
     "text": [
      "/home/gw/data/datasets/benchmark_data/naval_compressor.data\n",
      "9547 2387\n",
      "/home/gw/data/datasets/benchmark_data/airfoil.data\n",
      "1202 301\n",
      "/home/gw/data/datasets/benchmark_data/protein.data\n",
      "36584 9146\n",
      "/home/gw/data/datasets/benchmark_data/boston.data\n",
      "404 102\n",
      "/home/gw/data/datasets/benchmark_data/diabetes.data\n",
      "353 89\n",
      "/home/gw/data/datasets/benchmark_data/video_time.data\n",
      "55027 13757\n",
      "/home/gw/data/datasets/benchmark_data/concrete.data\n",
      "824 206\n",
      "/home/gw/data/datasets/benchmark_data/yacht.data\n",
      "246 62\n",
      "/home/gw/data/datasets/benchmark_data/video_mem.data\n",
      "55027 13757\n",
      "/home/gw/data/datasets/benchmark_data/gpu.data\n",
      "193280 48320\n",
      "/home/gw/data/datasets/benchmark_data/naval_turbine.data\n",
      "9547 2387\n",
      "/home/gw/data/datasets/benchmark_data/forest_fire.data\n",
      "413 104\n",
      "/home/gw/data/datasets/benchmark_data/energy.data\n",
      "614 154\n",
      "/home/gw/data/datasets/benchmark_data/wine.data\n",
      "142 36\n"
     ]
    }
   ],
   "source": [
    "dataset_indices = {}\n",
    "for dataset_element in dataset_list:\n",
    "    print(dataset_element)\n",
    "    with open(dataset_element, \"r\") as f:\n",
    "        lines = f.readlines()\n",
    "        lines_count = len(lines)\n",
    "        train_count = int((1.0 - fraction) * lines_count)\n",
    "        rng_key, rng_key_ = jax.random.split(rng_key)\n",
    "        indices = jax.random.permutation(rng_key_, lines_count)\n",
    "        indices_train = np.array(indices[:train_count]).tolist()\n",
    "        indices_val = np.array(indices[train_count:]).tolist()\n",
    "        print(len(indices_train), len(indices_val))\n",
    "        \n",
    "        # save to dict/json\n",
    "        dataset_name = dataset_element.split('/')[-1].split('.')[0]\n",
    "        dataset_indices[dataset_name] = {\"train\": indices_train, \"validate\": indices_val}"
   ]
  },
  {
   "cell_type": "raw",
   "id": "e3745f2d",
   "metadata": {},
   "source": [
    "import json\n",
    "with open(os.path.join(os.path.join(global_settings.PATH_DATASETS, \"benchmark_data\"), \"dataset_indices_0.2.json\"), 'w') as foutput:\n",
    "    json.dump(dataset_indices, foutput)"
   ]
  },
  {
   "cell_type": "markdown",
   "id": "cd77ad28",
   "metadata": {},
   "source": [
    "# Toy"
   ]
  },
  {
   "cell_type": "code",
   "execution_count": 14,
   "id": "25676f90",
   "metadata": {},
   "outputs": [
    {
     "name": "stdout",
     "output_type": "stream",
     "text": [
      "400 0.2\n",
      "320 80\n",
      "150 0.2\n",
      "120 30\n"
     ]
    }
   ],
   "source": [
    "# toy datasets\n",
    "dataset_indices = {}\n",
    "\n",
    "## izmailov\n",
    "dataset_izmailov = datasets.Izmailov()\n",
    "N = len(dataset_izmailov._data)\n",
    "print(N, fraction)\n",
    "\n",
    "rng_key, rng_key_ = jax.random.split(rng_key)\n",
    "train_count = int((1.0 - fraction) * N)\n",
    "indices = jax.random.permutation(rng_key_, N)\n",
    "indices_train = np.array(indices[:train_count]).tolist()\n",
    "indices_val = np.array(indices[train_count:]).tolist()\n",
    "print(len(indices_train), len(indices_val))\n",
    "\n",
    "dataset_name = \"izmailov\"\n",
    "dataset_indices[dataset_name] = {\"train\": indices_train, \"validate\": indices_val}\n",
    "\n",
    "## sinusoidal\n",
    "dataset_izmailov = datasets.Sinusoidal()\n",
    "N = len(dataset_izmailov._data)\n",
    "print(N, fraction)\n",
    "\n",
    "rng_key, rng_key_ = jax.random.split(rng_key)\n",
    "train_count = int((1.0 - fraction) * N)\n",
    "indices = jax.random.permutation(rng_key_, N)\n",
    "indices_train = np.array(indices[:train_count]).tolist()\n",
    "indices_val = np.array(indices[train_count:]).tolist()\n",
    "print(len(indices_train), len(indices_val))\n",
    "\n",
    "dataset_name = \"sinusoidal\"\n",
    "dataset_indices[dataset_name] = {\"train\": indices_train, \"validate\": indices_val}"
   ]
  },
  {
   "cell_type": "code",
   "execution_count": 15,
   "id": "aff40086",
   "metadata": {},
   "outputs": [],
   "source": [
    "import json\n",
    "with open(os.path.join(global_settings.PATH_DATASETS, \"toy_dataset_indices_0.2.json\"), 'w') as foutput:\n",
    "    json.dump(dataset_indices, foutput)"
   ]
  },
  {
   "cell_type": "code",
   "execution_count": null,
   "id": "ca3b6311",
   "metadata": {},
   "outputs": [],
   "source": []
  },
  {
   "cell_type": "code",
   "execution_count": 17,
   "id": "cee416ba",
   "metadata": {},
   "outputs": [
    {
     "name": "stdout",
     "output_type": "stream",
     "text": [
      "2\n"
     ]
    }
   ],
   "source": [
    "test = {\n",
    "    \"a\": 1,\n",
    "    \"b\": 2\n",
    "}\n",
    "print(len(test))"
   ]
  }
 ],
 "metadata": {
  "kernelspec": {
   "display_name": "Python 3 (ipykernel)",
   "language": "python",
   "name": "python3"
  },
  "language_info": {
   "codemirror_mode": {
    "name": "ipython",
    "version": 3
   },
   "file_extension": ".py",
   "mimetype": "text/x-python",
   "name": "python",
   "nbconvert_exporter": "python",
   "pygments_lexer": "ipython3",
   "version": "3.10.5"
  }
 },
 "nbformat": 4,
 "nbformat_minor": 5
}
