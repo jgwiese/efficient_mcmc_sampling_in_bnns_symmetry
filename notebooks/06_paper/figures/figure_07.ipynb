{
 "cells": [
  {
   "cell_type": "code",
   "execution_count": 1,
   "id": "fb95a2f4",
   "metadata": {},
   "outputs": [],
   "source": [
    "%load_ext autoreload\n",
    "%autoreload 2\n",
    "%matplotlib agg\n",
    "from IPython.display import display, HTML\n",
    "#display(HTML(\"<style>.container { width:100% !important; }</style>\"))\n",
    "\n",
    "import jax\n",
    "import jax.numpy as jnp\n",
    "import numpy as np\n",
    "import visualization\n",
    "from data import standardize\n",
    "from utils import results, experiments, settings, equioutput, evaluation, graphs\n",
    "import global_settings\n",
    "import os\n",
    "import matplotlib"
   ]
  },
  {
   "cell_type": "code",
   "execution_count": 2,
   "id": "a5ca864c",
   "metadata": {},
   "outputs": [],
   "source": [
    "identifier = [\n",
    "    \"5fe59dd56f3ecc657fa49ac8b4ec4dce\",\n",
    "    \"37bccc0afc165ff842fbbeab926ab2f3\",\n",
    "    \"0e4db14a0cf2f9dca590dae1eceb2ee8\",\n",
    "    \"92ebfb63c1305a60e0f30721a213c157\",\n",
    "    \n",
    "    \"f47e4647c414e39d47e2d5b79a59ce1e\",\n",
    "    \"2afe0c254c0afa9dd1ba436f4be5affb\",\n",
    "    \"2ea0f0a8a17bbe618255d2787e7e7230\",\n",
    "    \"80f2e90c0f0e63ae6bf8841863a92b4d\"\n",
    "]"
   ]
  },
  {
   "cell_type": "code",
   "execution_count": 9,
   "id": "385c1160",
   "metadata": {},
   "outputs": [
    {
     "name": "stdout",
     "output_type": "stream",
     "text": [
      "5fe59dd56f3ecc657fa49ac8b4ec4dce\n",
      "37bccc0afc165ff842fbbeab926ab2f3\n",
      "0e4db14a0cf2f9dca590dae1eceb2ee8\n",
      "92ebfb63c1305a60e0f30721a213c157\n",
      "f47e4647c414e39d47e2d5b79a59ce1e\n",
      "2afe0c254c0afa9dd1ba436f4be5affb\n",
      "2ea0f0a8a17bbe618255d2787e7e7230\n",
      "80f2e90c0f0e63ae6bf8841863a92b4d\n"
     ]
    }
   ],
   "source": [
    "samples_original = []\n",
    "samples_reduced = []\n",
    "for ident in identifier:\n",
    "    print(ident)\n",
    "    result = results.ResultSample.load_from_file(\n",
    "        # 1 hl, 3 hn\n",
    "        f\"/home/gw/data/experiments/master_thesis/results/{ident}.tar.gz\"\n",
    "    )\n",
    "    experiment = experiments.FactoryExperiment(result.experiment_type, **{\"settings\": result.settings})()\n",
    "    \n",
    "    folder = os.path.join(global_settings.PATH_RESULTS, result.identifier)\n",
    "    file_name = os.path.join(folder, f\"{result.identifier}_2_1024_rbf.npy\")\n",
    "    \n",
    "    samples_parameters_reduced = None\n",
    "    if os.path.exists(file_name):\n",
    "        samples_parameters_reduced = jnp.load(file_name)\n",
    "    samples_original.append(result.samples[\"parameters\"])\n",
    "    samples_reduced.append(samples_parameters_reduced)"
   ]
  },
  {
   "cell_type": "code",
   "execution_count": null,
   "id": "78ab9ae4",
   "metadata": {},
   "outputs": [],
   "source": [
    "figure = plt.figure(figsize=())\n",
    "ax = figure.add_subplot()\n",
    "\n",
    "for element in samples_original"
   ]
  }
 ],
 "metadata": {
  "kernelspec": {
   "display_name": "Python 3 (ipykernel)",
   "language": "python",
   "name": "python3"
  },
  "language_info": {
   "codemirror_mode": {
    "name": "ipython",
    "version": 3
   },
   "file_extension": ".py",
   "mimetype": "text/x-python",
   "name": "python",
   "nbconvert_exporter": "python",
   "pygments_lexer": "ipython3",
   "version": "3.10.8"
  }
 },
 "nbformat": 4,
 "nbformat_minor": 5
}
