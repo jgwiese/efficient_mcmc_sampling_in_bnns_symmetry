{
 "cells": [
  {
   "cell_type": "code",
   "execution_count": 1,
   "id": "b2f5962c",
   "metadata": {},
   "outputs": [
    {
     "data": {
      "text/html": [
       "<style>.container { width:100% !important; }</style>"
      ],
      "text/plain": [
       "<IPython.core.display.HTML object>"
      ]
     },
     "metadata": {},
     "output_type": "display_data"
    }
   ],
   "source": [
    "%load_ext autoreload\n",
    "%autoreload 2\n",
    "%matplotlib agg\n",
    "from IPython.display import display, HTML\n",
    "display(HTML(\"<style>.container { width:100% !important; }</style>\"))\n",
    "\n",
    "import jax\n",
    "import jax.numpy as jnp\n",
    "import visualization\n",
    "from utils import results, experiments, settings, equioutput, evaluation"
   ]
  },
  {
   "cell_type": "code",
   "execution_count": 2,
   "id": "1299549e",
   "metadata": {},
   "outputs": [
    {
     "name": "stdout",
     "output_type": "stream",
     "text": [
      "normalized probabilities: [0.5665243  0.3504857  0.08298998]\n",
      "SettingsExperimentSample(output_path='/home/gw/data/experiments/master_thesis/results', dataset='regression2d', dataset_normalization='standardization', hidden_layers=1, hidden_neurons=4, activation='tanh', activation_last_layer='none', num_warmup=1024, statistic='reduced', statistic_p=0.99, samples_per_chain=1, identifiable_modes=3, pool_size=8, seed=0)\n"
     ]
    }
   ],
   "source": [
    "result = results.ResultSample.load_from_file(\n",
    "    # 1 hl, 3 hn\n",
    "    #\"/home/gw/data/experiments/master_thesis/results/1cd0fb4d70b0c0c9bc850afe49a45128.tar.gz\"\n",
    "    #\"/home/gw/data/experiments/master_thesis/results/cbc8fa72832a535540fd3a72274bd1df.tar.gz\"\n",
    "    #\"/home/gw/data/experiments/master_thesis/results/f542d3ebd37584291a4d8e9cef5b95f7.tar.gz\"\n",
    "    \n",
    "    # 1 hl, 4 hn\n",
    "    #\"/home/gw/data/experiments/master_thesis/results/e99343eb8d643d1e9212b2fcab193df5.tar.gz\"\n",
    "    #\"/home/gw/data/experiments/master_thesis/results/cbc8fa72832a535540fd3a72274bd1df.tar.gz\"\n",
    "    #\"/home/gw/data/experiments/master_thesis/results/c6835cefcab68b58b6f07158f1137c83.tar.gz\"\n",
    "    \n",
    "    # 2 hl, 3 hn\n",
    "    #\"/home/gw/data/experiments/master_thesis/results/6fad5c77c6e4fcd72601720d57bf25fb.tar.gz\"\n",
    "    #\"/home/gw/data/experiments/master_thesis/results/89478192c4d7fb7c0c138a6635f0ff04.tar.gz\"\n",
    "    #\"/home/gw/data/experiments/master_thesis/results/3f20a27ee0828d865a36320f2af66afb.tar.gz\"\n",
    "    \n",
    "    # 2 hl, 4 hn\n",
    "    #\"/home/gw/data/experiments/master_thesis/results/5fe59dd56f3ecc657fa49ac8b4ec4dce.tar.gz\"\n",
    "    #\"/home/gw/data/experiments/master_thesis/results/f47e4647c414e39d47e2d5b79a59ce1e.tar.gz\"\n",
    "    #\"/home/gw/data/experiments/master_thesis/results/ee1191f6065b8f88c88a62cffa269857.tar.gz\"\n",
    "    \n",
    "    # 2 hl, 8hn\n",
    "    #\"/home/gw/data/experiments/master_thesis/results/37bccc0afc165ff842fbbeab926ab2f3.tar.gz\"\n",
    "    #\"/home/gw/data/experiments/master_thesis/results/2afe0c254c0afa9dd1ba436f4be5affb.tar.gz\"\n",
    "    #\"/home/gw/data/experiments/master_thesis/results/52a86ebd73aaa81538d2dccf80bd1b68.tar.gz\"\n",
    "    \n",
    "    # 4 hl, 4 hn\n",
    "    #\"/home/gw/data/experiments/master_thesis/results/1664a41abb8c2042a3a316cefd1c5e87.tar.gz\"\n",
    ")\n",
    "experiment = experiments.FactoryExperiment(result.experiment_type, **{\"settings\": result.settings})()\n",
    "print(experiment._settings)"
   ]
  },
  {
   "cell_type": "code",
   "execution_count": 3,
   "id": "6b069d6a",
   "metadata": {},
   "outputs": [],
   "source": [
    "posterior_samples = result.samples[\"parameters\"]"
   ]
  },
  {
   "cell_type": "code",
   "execution_count": 4,
   "id": "8d1287dd",
   "metadata": {},
   "outputs": [
    {
     "name": "stdout",
     "output_type": "stream",
     "text": [
      "47.26016\n"
     ]
    },
    {
     "name": "stderr",
     "output_type": "stream",
     "text": [
      "/home/gw/data/binaries/mt/lib/python3.10/site-packages/jax/_src/numpy/lax_numpy.py:1865: ComplexWarning: Casting complex values to real discards the imaginary part\n",
      "  out = lax_internal._convert_element_type(out, dtype, weak_type=weak_type)\n"
     ]
    }
   ],
   "source": [
    "values, vectors = evaluation.full_pca(posterior_samples)\n",
    "print(values.sum())"
   ]
  },
  {
   "cell_type": "code",
   "execution_count": 5,
   "id": "b3ef0440",
   "metadata": {},
   "outputs": [
    {
     "name": "stdout",
     "output_type": "stream",
     "text": [
      "(1274, 17)\n",
      "FrozenDict({\n",
      "    params: {\n",
      "        layers_0: {\n",
      "            bias: DeviceArray([4], dtype=int32),\n",
      "            kernel: DeviceArray([2, 4], dtype=int32),\n",
      "        },\n",
      "        layers_2: {\n",
      "            bias: DeviceArray([1], dtype=int32),\n",
      "            kernel: DeviceArray([4, 1], dtype=int32),\n",
      "        },\n",
      "    },\n",
      "})\n"
     ]
    }
   ],
   "source": [
    "sequential_helper = equioutput.SequentialHelper(\n",
    "    transformation=experiment._model_transformation,\n",
    "    dataset=experiment._dataset\n",
    ")\n",
    "structured_sequential_samples_parameters = sequential_helper.structured_sequential_samples_parameters(\n",
    "    samples_parameters=result.samples[\"parameters\"]\n",
    ")\n",
    "symmetry_helper = equioutput.SymmetryHelper(structured_sequential_samples_parameters)\n",
    "\n",
    "print(result.samples[\"parameters\"].shape)\n",
    "print(sequential_helper._parameters_shapes)"
   ]
  },
  {
   "cell_type": "code",
   "execution_count": 6,
   "id": "9809a791",
   "metadata": {
    "scrolled": true
   },
   "outputs": [
    {
     "name": "stdout",
     "output_type": "stream",
     "text": [
      "epoch: 0,  loss: 2.054232120513916, normal l2 norm: 1.0221617221832275\n",
      "epoch: 1,  loss: 1.8301595449447632, normal l2 norm: 0.9761782288551331\n",
      "epoch: 2,  loss: 1.6832115650177002, normal l2 norm: 1.397130012512207\n",
      "epoch: 3,  loss: 1.6482349634170532, normal l2 norm: 1.2514084577560425\n",
      "epoch: 4,  loss: 1.6039671897888184, normal l2 norm: 0.9817870259284973\n",
      "epoch: 5,  loss: 1.5759882926940918, normal l2 norm: 0.8910833597183228\n",
      "epoch: 6,  loss: 1.5478301048278809, normal l2 norm: 0.9499236345291138\n",
      "epoch: 7,  loss: 1.5626332759857178, normal l2 norm: 1.0002843141555786\n",
      "epoch: 8,  loss: 1.5348387956619263, normal l2 norm: 1.0320767164230347\n",
      "epoch: 9,  loss: 1.5299197435379028, normal l2 norm: 0.9970718026161194\n",
      "epoch: 10,  loss: 1.5232568979263306, normal l2 norm: 0.9320270419120789\n",
      "epoch: 11,  loss: 1.5157103538513184, normal l2 norm: 1.0156810283660889\n",
      "epoch: 12,  loss: 1.5096197128295898, normal l2 norm: 1.0241230726242065\n",
      "epoch: 13,  loss: 1.5054455995559692, normal l2 norm: 0.9987402558326721\n",
      "epoch: 14,  loss: 1.5072474479675293, normal l2 norm: 0.9775699973106384\n",
      "epoch: 15,  loss: 1.503671407699585, normal l2 norm: 0.9860932230949402\n",
      "epoch: 16,  loss: 1.5001418590545654, normal l2 norm: 1.0088902711868286\n",
      "epoch: 17,  loss: 1.5057616233825684, normal l2 norm: 0.9904747009277344\n",
      "epoch: 18,  loss: 1.4980518817901611, normal l2 norm: 0.9791463017463684\n",
      "epoch: 19,  loss: 1.4998154640197754, normal l2 norm: 0.9731222987174988\n",
      "epoch: 20,  loss: 1.4981460571289062, normal l2 norm: 0.9849803447723389\n",
      "epoch: 21,  loss: 1.4976173639297485, normal l2 norm: 0.9735796451568604\n",
      "epoch: 22,  loss: 1.497666835784912, normal l2 norm: 0.9779074192047119\n",
      "epoch: 23,  loss: 1.4967831373214722, normal l2 norm: 0.9814028739929199\n",
      "epoch: 24,  loss: 1.4967329502105713, normal l2 norm: 0.9802787899971008\n",
      "epoch: 25,  loss: 1.4957224130630493, normal l2 norm: 0.9767493009567261\n",
      "epoch: 26,  loss: 1.4961349964141846, normal l2 norm: 0.9769397974014282\n",
      "epoch: 27,  loss: 1.494886875152588, normal l2 norm: 0.9766766428947449\n",
      "epoch: 28,  loss: 1.4954286813735962, normal l2 norm: 0.9780023694038391\n",
      "epoch: 29,  loss: 1.4954538345336914, normal l2 norm: 0.9779468774795532\n",
      "epoch: 30,  loss: 1.4952409267425537, normal l2 norm: 0.9775261282920837\n",
      "epoch: 31,  loss: 1.4942351579666138, normal l2 norm: 0.977115273475647\n"
     ]
    },
    {
     "name": "stderr",
     "output_type": "stream",
     "text": [
      "100%|███████████████████████████████████████████████████████████████████████████████████████████████████████████████████████████████████████████████████| 5096/5096 [00:21<00:00, 236.82it/s]\n"
     ]
    },
    {
     "name": "stdout",
     "output_type": "stream",
     "text": [
      "0 1617\n",
      "1 1147\n",
      "2 836\n",
      "3 694\n",
      "4 568\n",
      "5 435\n",
      "6 371\n",
      "7 321\n",
      "8 304\n",
      "9 263\n",
      "10 224\n",
      "11 216\n",
      "12 216\n",
      "13 162\n",
      "14 159\n",
      "15 141\n",
      "16 138\n",
      "17 137\n",
      "18 131\n",
      "19 143\n",
      "20 119\n",
      "21 122\n",
      "22 108\n",
      "23 103\n",
      "24 81\n",
      "25 66\n",
      "26 69\n",
      "27 67\n",
      "28 69\n",
      "29 64\n",
      "30 62\n",
      "31 56\n",
      "32 54\n",
      "33 46\n",
      "34 33\n",
      "35 30\n",
      "36 32\n",
      "37 32\n",
      "38 22\n",
      "39 16\n",
      "40 15\n",
      "41 15\n",
      "42 17\n",
      "43 21\n",
      "44 24\n",
      "45 33\n",
      "46 29\n",
      "47 28\n",
      "48 24\n",
      "49 23\n",
      "50 17\n",
      "51 19\n",
      "52 22\n",
      "53 22\n",
      "54 16\n",
      "55 13\n",
      "56 8\n",
      "57 3\n",
      "58 1\n",
      "59 1\n",
      "60 1\n",
      "61 0\n",
      "62 0\n",
      "63 0\n",
      "64 0\n",
      "65 0\n",
      "66 0\n",
      "67 0\n",
      "68 0\n",
      "69 0\n",
      "70 0\n",
      "71 0\n",
      "72 0\n",
      "73 0\n",
      "74 0\n",
      "75 0\n",
      "76 0\n",
      "77 0\n",
      "78 0\n",
      "79 0\n",
      "80 0\n",
      "81 0\n",
      "82 0\n",
      "83 0\n",
      "84 0\n",
      "85 0\n",
      "86 0\n",
      "87 0\n",
      "88 0\n",
      "89 0\n",
      "90 0\n",
      "91 0\n",
      "92 0\n",
      "93 0\n",
      "94 0\n",
      "95 0\n",
      "96 0\n",
      "97 0\n",
      "98 0\n",
      "99 0\n",
      "100 0\n",
      "101 0\n",
      "102 0\n",
      "103 0\n",
      "104 0\n",
      "105 0\n",
      "106 0\n",
      "107 0\n",
      "108 0\n",
      "109 0\n",
      "110 0\n",
      "111 0\n",
      "112 0\n",
      "113 0\n",
      "114 0\n",
      "115 0\n",
      "116 0\n",
      "117 0\n",
      "118 0\n",
      "119 0\n",
      "120 0\n",
      "121 0\n",
      "122 0\n",
      "123 0\n",
      "124 0\n",
      "125 0\n",
      "126 0\n",
      "127 0\n"
     ]
    }
   ],
   "source": [
    "for i in [0]:\n",
    "    symmetry_helper.remove_tanh_symmetries(layer=i, rng_key=jax.random.PRNGKey(0))\n",
    "    symmetry_helper.remove_permutation_symmetries(layer=i, iterations=128)"
   ]
  },
  {
   "cell_type": "code",
   "execution_count": 7,
   "id": "26cead52",
   "metadata": {},
   "outputs": [
    {
     "name": "stdout",
     "output_type": "stream",
     "text": [
      "20.18863\n"
     ]
    }
   ],
   "source": [
    "posterior_samples_relabeled = symmetry_helper._structured_sequential_samples_parameters.samples_parameters\n",
    "values, vectors = evaluation.full_pca(posterior_samples_relabeled)\n",
    "print(values.sum())"
   ]
  },
  {
   "cell_type": "code",
   "execution_count": null,
   "id": "bb53c72e",
   "metadata": {},
   "outputs": [],
   "source": []
  }
 ],
 "metadata": {
  "kernelspec": {
   "display_name": "Python 3 (ipykernel)",
   "language": "python",
   "name": "python3"
  },
  "language_info": {
   "codemirror_mode": {
    "name": "ipython",
    "version": 3
   },
   "file_extension": ".py",
   "mimetype": "text/x-python",
   "name": "python",
   "nbconvert_exporter": "python",
   "pygments_lexer": "ipython3",
   "version": "3.10.4"
  }
 },
 "nbformat": 4,
 "nbformat_minor": 5
}
