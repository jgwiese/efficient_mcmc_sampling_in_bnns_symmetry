{
 "cells": [
  {
   "cell_type": "markdown",
   "id": "a48740cd",
   "metadata": {},
   "source": [
    "# experiment: performance of our mcmc approach"
   ]
  },
  {
   "cell_type": "code",
   "execution_count": 1,
   "id": "05331114",
   "metadata": {},
   "outputs": [
    {
     "name": "stderr",
     "output_type": "stream",
     "text": [
      "WARNING:absl:No GPU/TPU found, falling back to CPU. (Set TF_CPP_MIN_LOG_LEVEL=0 and rerun for more info.)\n"
     ]
    }
   ],
   "source": [
    "%load_ext autoreload\n",
    "%autoreload 2\n",
    "%matplotlib agg\n",
    "\n",
    "\n",
    "import global_settings\n",
    "from utils import experiments, results\n",
    "import jax\n",
    "from multiprocessing import Pool\n",
    "from tqdm import tqdm\n",
    "import jax.numpy as jnp\n",
    "import os"
   ]
  },
  {
   "cell_type": "code",
   "execution_count": 2,
   "id": "17fa1b1f",
   "metadata": {},
   "outputs": [],
   "source": [
    "experiment = experiments.ExperimentSampleStandard(\n",
    "    settings=experiments.settings.SettingsExperimentSample(\n",
    "        output_path=global_settings.PATH_PAPER_RESULTS,\n",
    "        dataset=global_settings.DATASET_NAMES[0],\n",
    "        dataset_normalization=\"standardization\",\n",
    "        hidden_layers=1,\n",
    "        hidden_neurons=3,\n",
    "        activation=\"tanh\",\n",
    "        activation_last_layer=\"none\",\n",
    "        num_warmup=2**10,\n",
    "        statistic=\"reduced\",\n",
    "        statistic_p=0.99,\n",
    "        samples_per_chain=1,\n",
    "        identifiable_modes=3,\n",
    "        pool_size=1, # has no effect in jupyter notebook, use script instead\n",
    "        seed=0,\n",
    "        overwrite_chains=None\n",
    "    )\n",
    ")"
   ]
  },
  {
   "cell_type": "markdown",
   "id": "7e8463cc",
   "metadata": {},
   "source": [
    "## run experiment"
   ]
  },
  {
   "cell_type": "code",
   "execution_count": 3,
   "id": "76a2a019",
   "metadata": {},
   "outputs": [
    {
     "name": "stdout",
     "output_type": "stream",
     "text": [
      "model transformation parameters 10\n",
      "number of chains: 1274\n"
     ]
    },
    {
     "name": "stderr",
     "output_type": "stream",
     "text": [
      "100%|███████████████████████████████████████████████████████████████████████████████████████████| 1274/1274 [21:20<00:00,  1.01s/it]\n"
     ]
    }
   ],
   "source": [
    "experiment.run()"
   ]
  },
  {
   "cell_type": "markdown",
   "id": "81a9513b",
   "metadata": {},
   "source": [
    "## save experiment"
   ]
  },
  {
   "cell_type": "code",
   "execution_count": 10,
   "id": "8c17c33d",
   "metadata": {},
   "outputs": [],
   "source": [
    "result = experiment.result()"
   ]
  },
  {
   "cell_type": "raw",
   "id": "576f0adb",
   "metadata": {},
   "source": [
    "print(f\"saved as {experiment.save()}\")"
   ]
  },
  {
   "cell_type": "markdown",
   "id": "91e1b7b0",
   "metadata": {},
   "source": [
    "## evaluation"
   ]
  },
  {
   "cell_type": "code",
   "execution_count": 4,
   "id": "9e848515",
   "metadata": {},
   "outputs": [],
   "source": [
    "def computed_lppd_mcmc(inputs, outputs, parameters_network, parameters_data_std, regression_model):\n",
    "    \"\"\"variant of lppd for mcmc samples\"\"\"\n",
    "    log_prob_means = []\n",
    "    for xi, yi in zip(inputs, outputs):\n",
    "        yi_preds = jax.vmap(regression_model._transformation.apply_from_vector, in_axes=(None, 0))(xi, parameters_network)\n",
    "        prob_mean = jnp.exp(regression_model._outputs_likelihood(\n",
    "            yi_preds,\n",
    "            parameters_data_std).log_prob(yi)).mean(axis=0)\n",
    "        if prob_mean > 0.0:\n",
    "            log_prob_means.append(jnp.log(prob_mean))\n",
    "    log_prob_means = jnp.array(log_prob_means)\n",
    "    return log_prob_means\n",
    "\n",
    "def computed_lppd_la(inputs, outputs, parameters_network, parameters_data_std, regression_model):\n",
    "    log_prob_means = []\n",
    "    for xi, yi in zip(inputs, outputs):\n",
    "        yi_preds = jax.vmap(regression_model._transformation.apply_from_vector, in_axes=(None, 0))(xi, parameters_network)\n",
    "        yi_std = parameters_data_std\n",
    "        prob_mean = jnp.exp(regression_model._outputs_likelihood(\n",
    "            yi_preds,\n",
    "            yi_std).log_prob(yi)).mean(axis=0)\n",
    "        if prob_mean > 0.0:\n",
    "            log_prob_means.append(jnp.log(prob_mean))\n",
    "    log_prob_means = jnp.array(log_prob_means)\n",
    "    return log_prob_means\n",
    "\n",
    "def computed_lppd_de(inputs, outputs, parameters_network, parameters_data_std, regression_model):\n",
    "    log_prob_means = []\n",
    "    for xi, yi in zip(inputs, outputs):\n",
    "        yi_preds = jax.vmap(regression_model._transformation.apply_from_vector, in_axes=(None, 0))(xi, parameters_network)\n",
    "        # means\n",
    "        mean = yi_preds.mean(0)\n",
    "        variance = (jnp.power(parameters_data_std, 2) + jnp.power(yi_preds, 2)).mean(0) - jnp.power(mean, 2)\n",
    "        std = jnp.power(variance, 0.5)\n",
    "        predictive_prob = jnp.exp(distributions.Normal(mean, std).log_prob(yi))\n",
    "        log_prob_means.append(jnp.log(predictive_prob))\n",
    "    log_prob_means = jnp.array(log_prob_means)\n",
    "    return log_prob_means\n",
    "\n",
    "def load_dataset(name):\n",
    "    if name in global_settings.DATASET_NAMES_TOY:\n",
    "        with open(os.path.join(global_settings.PATH_DATASETS, \"toy_dataset_indices_0.2.json\"), 'r') as f:\n",
    "            indices = json.load(f)\n",
    "            split = {\n",
    "                \"data_train\": indices[name][\"train\"],\n",
    "                \"data_validate\": [],\n",
    "                \"data_test\": indices[name][\"validate\"] # validate as test data, since we do not need validation data...\n",
    "            }\n",
    "    elif name in global_settings.DATASET_NAMES_BENCHMARK:\n",
    "        print(name)\n",
    "        with open(os.path.join(os.path.join(global_settings.PATH_DATASETS, \"benchmark_data\"), \"dataset_indices_0.2.json\"), 'r') as f:\n",
    "            indices = json.load(f)\n",
    "            split = {\n",
    "                \"data_train\": indices[name][\"train\"],\n",
    "                \"data_validate\": [],\n",
    "                \"data_test\": indices[name][\"validate\"] # validate as test data, since we do not need validation data...\n",
    "            }\n",
    "    else:\n",
    "        return None\n",
    "        \n",
    "    # load dataset\n",
    "    if name == \"izmailov\":\n",
    "        dataset = datasets.Izmailov(split=split)\n",
    "    elif name == \"sinusoidal\":\n",
    "        dataset = datasets.Sinusoidal(split=split)\n",
    "    elif name == \"regression2d\":\n",
    "        dataset = datasets.Regression2d(split=split)\n",
    "    elif name in global_settings.DATASET_NAMES_BENCHMARK:\n",
    "        dataset = datasets.GenericBenchmark(dataset_name=name, split=split)\n",
    "    else:\n",
    "        return None\n",
    "    \n",
    "    return dataset"
   ]
  },
  {
   "cell_type": "code",
   "execution_count": null,
   "id": "a6a78291",
   "metadata": {},
   "outputs": [],
   "source": [
    "# TODO: I need evaluation methods for both: from experiment and from file"
   ]
  },
  {
   "cell_type": "code",
   "execution_count": 7,
   "id": "73c8af85",
   "metadata": {},
   "outputs": [
    {
     "ename": "NameError",
     "evalue": "name 'result' is not defined",
     "output_type": "error",
     "traceback": [
      "\u001b[0;31m---------------------------------------------------------------------------\u001b[0m",
      "\u001b[0;31mNameError\u001b[0m                                 Traceback (most recent call last)",
      "Input \u001b[0;32mIn [7]\u001b[0m, in \u001b[0;36m<cell line: 21>\u001b[0;34m()\u001b[0m\n\u001b[1;32m     18\u001b[0m log_probs_std \u001b[38;5;241m=\u001b[39m jnp\u001b[38;5;241m.\u001b[39mstd(log_prob_means, axis\u001b[38;5;241m=\u001b[39m\u001b[38;5;241m0\u001b[39m)\n\u001b[1;32m     19\u001b[0m log_probs_std_error \u001b[38;5;241m=\u001b[39m log_probs_std \u001b[38;5;241m/\u001b[39m jnp\u001b[38;5;241m.\u001b[39msqrt(inputs\u001b[38;5;241m.\u001b[39mshape[\u001b[38;5;241m0\u001b[39m])\n\u001b[0;32m---> 21\u001b[0m \u001b[38;5;28;01mif\u001b[39;00m \u001b[38;5;28mlen\u001b[39m(\u001b[43mresult\u001b[49m\u001b[38;5;241m.\u001b[39mindices_test) \u001b[38;5;241m==\u001b[39m \u001b[38;5;241m0\u001b[39m:\n\u001b[1;32m     22\u001b[0m     \u001b[38;5;28mprint\u001b[39m(\u001b[38;5;124m\"\u001b[39m\u001b[38;5;124mWARNING: trained on entire dataset?\u001b[39m\u001b[38;5;124m\"\u001b[39m)\n\u001b[1;32m     23\u001b[0m mcmc_str \u001b[38;5;241m=\u001b[39m \u001b[38;5;124m\"\u001b[39m\u001b[38;5;132;01m{:.2f}\u001b[39;00m\u001b[38;5;124m, \u001b[39m\u001b[38;5;132;01m{:.2f}\u001b[39;00m\u001b[38;5;124m\"\u001b[39m\u001b[38;5;241m.\u001b[39mformat(log_probs_mean\u001b[38;5;241m.\u001b[39mitem(), log_probs_std_error\u001b[38;5;241m.\u001b[39mitem())\n",
      "\u001b[0;31mNameError\u001b[0m: name 'result' is not defined"
     ]
    }
   ],
   "source": [
    "# retrieve relevant results\n",
    "dataset = experiment._dataset\n",
    "samples = experiment._samples\n",
    "model = experiment._model\n",
    "\n",
    "# compute lppd\n",
    "inputs = dataset.data_test[:, dataset.conditional_indices]\n",
    "outputs = dataset.data_test[:, dataset.dependent_indices]\n",
    "log_prob_means = computed_lppd_mcmc(\n",
    "    inputs=inputs,\n",
    "    outputs=outputs,\n",
    "    parameters_network=samples[\"parameters\"],\n",
    "    parameters_data_std=samples[\"std\"],\n",
    "    regression_model=model\n",
    ")\n",
    "\n",
    "log_probs_mean = jnp.mean(log_prob_means, axis=0)\n",
    "log_probs_std = jnp.std(log_prob_means, axis=0)\n",
    "log_probs_std_error = log_probs_std / jnp.sqrt(inputs.shape[0])\n",
    "\n",
    "if len(result.indices_test) == 0:\n",
    "    print(\"WARNING: trained on entire dataset?\")\n",
    "mcmc_str = \"{:.2f}, {:.2f}\".format(log_probs_mean.item(), log_probs_std_error.item())\n",
    "print(\"mcmc (ours)\", experiment._settings.dataset, mcmc_str)"
   ]
  },
  {
   "cell_type": "code",
   "execution_count": null,
   "id": "c975afa8",
   "metadata": {},
   "outputs": [],
   "source": []
  }
 ],
 "metadata": {
  "kernelspec": {
   "display_name": "Python 3 (ipykernel)",
   "language": "python",
   "name": "python3"
  },
  "language_info": {
   "codemirror_mode": {
    "name": "ipython",
    "version": 3
   },
   "file_extension": ".py",
   "mimetype": "text/x-python",
   "name": "python",
   "nbconvert_exporter": "python",
   "pygments_lexer": "ipython3",
   "version": "3.10.9"
  }
 },
 "nbformat": 4,
 "nbformat_minor": 5
}
