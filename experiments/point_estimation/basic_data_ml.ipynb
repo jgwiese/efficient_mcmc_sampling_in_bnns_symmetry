{
 "cells": [
  {
   "cell_type": "code",
   "execution_count": 1,
   "id": "72e4b7cb",
   "metadata": {},
   "outputs": [],
   "source": [
    "import torch\n",
    "import pandas\n",
    "import numpy as np\n",
    "import matplotlib.pyplot as plt\n",
    "import visualization\n",
    "from data import datasets, evaluation\n",
    "import transformation\n",
    "\n",
    "%load_ext autoreload\n",
    "%autoreload 2 \n",
    "%matplotlib agg"
   ]
  },
  {
   "cell_type": "code",
   "execution_count": 3,
   "id": "def35c3c-f9e0-4649-a38e-b5dc06a64b0e",
   "metadata": {},
   "outputs": [],
   "source": [
    "dataset = datasets.Izmailov(normalization=\"standardization\")\n",
    "dataset_train, dataset_validate = dataset.split(0.9)\n",
    "\n",
    "#X_train, y_train = data_train_scaled[:, :-1], data_train_scaled[:, -1:]\n",
    "#X_validate, y_validate = data_validate_scaled[:, :-1], data_validate_scaled[:, -1:]\n",
    "#print(X_train.shape, X_validate.shape)"
   ]
  },
  {
   "cell_type": "code",
   "execution_count": 7,
   "id": "5a45b23e-7b67-4dd1-beab-686fd7579b85",
   "metadata": {},
   "outputs": [
    {
     "name": "stdout",
     "output_type": "stream",
     "text": [
      "<data.datasets.izmailov.Izmailov object at 0x7fd911c63280> <data.datasets.izmailov.Izmailov object at 0x7fd911cedeb0> <data.datasets.izmailov.Izmailov object at 0x7fd911c63e50>\n",
      "(tensor(0.1498), tensor(0.7132)) (tensor(0.9423), tensor(1.0002)) (tensor(-1.3895), tensor(-1.5360))\n",
      "400 360 40\n"
     ]
    }
   ],
   "source": [
    "print(dataset, dataset_train, dataset_validate)\n",
    "print(dataset[0], dataset_train[0], dataset_validate[0])\n",
    "print(len(dataset), len(dataset_train), len(dataset_validate))"
   ]
  },
  {
   "cell_type": "code",
   "execution_count": 16,
   "id": "91f68099-500d-44af-8ff3-e17238735452",
   "metadata": {},
   "outputs": [
    {
     "name": "stdout",
     "output_type": "stream",
     "text": [
      "torch.Size([10])\n"
     ]
    }
   ],
   "source": [
    "print(dataset[0:10][0].shape)"
   ]
  },
  {
   "cell_type": "code",
   "execution_count": null,
   "id": "2f84f14e-fd35-42af-b04d-78df26d1ff62",
   "metadata": {},
   "outputs": [],
   "source": [
    "figure = visualization.TriangleFigure(width=np.sqrt(2) * dataset_train.data.shape[-1], height=np.sqrt(2) * dataset_train.data.shape[-1], prefix=\"x\")\n",
    "figure.plot(data=dataset_train.data)"
   ]
  },
  {
   "cell_type": "code",
   "execution_count": 4,
   "id": "f96cd460",
   "metadata": {},
   "outputs": [],
   "source": [
    "def ridge(mean_pred, std_pred, y_true, parameters):\n",
    "    factor = 0.5 / std_pred**2\n",
    "    loss = factor * torch.pow(mean_pred - y_true, 2) + torch.log(std_pred)\n",
    "    loss = loss.sum()\n",
    "    loss = loss + parameters.T @ parameters\n",
    "    return loss\n",
    "\n",
    "def train(x, y, model, parameters, logstd, optimizer, loss_function, epochs, report_at, lr_0=None):\n",
    "    # TODO: Add support for batches! Requires recalculation of deviding by n etc, or not?\n",
    "    if lr_0 is None:\n",
    "        for g in optimizer.param_groups:\n",
    "            lr_0 = g[\"lr\"]\n",
    "    \n",
    "    def lr_decay(lr, epoch):  # TODO: This cannot be the final version, since it is not general.\n",
    "        return lr\n",
    "        #return lr / (1.0 + 1.0e-5 * epoch)\n",
    "    \n",
    "    for epoch in range(epochs):\n",
    "        # update learning rate\n",
    "        lr_i = lr_decay(lr_0, epoch)\n",
    "        for g in optimizer.param_groups:\n",
    "            g[\"lr\"] = lr_i\n",
    "        \n",
    "        optimizer.zero_grad()\n",
    "        mean = model(x, parameters)\n",
    "        loss = loss_function(mean, torch.exp(logstd), y, parameters)\n",
    "        loss.backward()\n",
    "        optimizer.step()\n",
    "        with torch.no_grad():\n",
    "            if (epoch % report_at) == 0 or epoch == (epochs - 1):\n",
    "                # training set\n",
    "                with torch.no_grad():\n",
    "                    y_pred = model(X_train, parameters)\n",
    "                y_pred_rescaled = y_pred * dataset_validate.std[-1] + dataset_validate.mean[-1]\n",
    "                y_train_rescaled = y_train * dataset_validate.std[-1] + dataset_validate.mean[-1]\n",
    "                rmse_train = evaluation.rmse(y_pred_rescaled, y_train_rescaled)\n",
    "                \n",
    "                # validation set\n",
    "                with torch.no_grad():\n",
    "                    y_pred = model(X_validate, parameters)\n",
    "                y_pred_rescaled = y_pred * dataset_validate.std[-1] + dataset_validate.mean[-1]\n",
    "                y_validate_rescaled = y_validate * dataset_validate.std[-1] + dataset_validate.mean[-1]\n",
    "                rmse_validate = evaluation.rmse(y_pred_rescaled, y_validate_rescaled)\n",
    "                \n",
    "                print(\"error at epoch {}\".format(epoch), loss.item(), \"lr\", lr_i, \"rmse train\", rmse_train, \"rmse validate\", rmse_validate)\n",
    "                pass"
   ]
  },
  {
   "cell_type": "code",
   "execution_count": 5,
   "id": "aa2b8066-fd4d-405d-8597-e47ea50e77a8",
   "metadata": {},
   "outputs": [],
   "source": [
    "hidden_neurons = 16\n",
    "model = transformation.Sequential([\n",
    "    transformation.Linear(X_train.shape[-1], hidden_neurons),\n",
    "    transformation.Activation(transformation.ActivationType.TANH),\n",
    "    transformation.Linear(hidden_neurons, hidden_neurons),\n",
    "    transformation.Activation(transformation.ActivationType.TANH),\n",
    "    transformation.Linear(hidden_neurons, 1)\n",
    "])"
   ]
  },
  {
   "cell_type": "code",
   "execution_count": null,
   "id": "9668428f-28c9-41d8-bc38-d98af3d19b1d",
   "metadata": {},
   "outputs": [],
   "source": [
    "thetas = []\n",
    "for i in range(1):\n",
    "    theta = (torch.randn(model.parameters_size) * 0.1).requires_grad_(True)\n",
    "    logstd = (1.0 + torch.randn(1) * 0.1).requires_grad_(True)\n",
    "    optimizer = torch.optim.Adam([theta, logstd])\n",
    "    train(X_train, y_train, model, theta, logstd, optimizer, ridge, 100000, 1000)\n",
    "    thetas.append(theta.clone().detach())\n",
    "thetas = torch.stack(thetas, dim=0)"
   ]
  },
  {
   "cell_type": "code",
   "execution_count": 7,
   "id": "4a698cf5-d451-413a-9431-a1ac7809c06b",
   "metadata": {},
   "outputs": [
    {
     "data": {
      "image/png": "[encoded data removed]",
      "text/plain": [
       "<Figure size 400x400 with 1 Axes>"
      ]
     },
     "execution_count": 7,
     "metadata": {},
     "output_type": "execute_result"
    }
   ],
   "source": [
    "figure = visualization.RegressionFigure(width=4, height=4)\n",
    "figure.plot(data_train_scaled, model, thetas, logstd)"
   ]
  },
  {
   "cell_type": "code",
   "execution_count": 8,
   "id": "fd1f059a",
   "metadata": {},
   "outputs": [],
   "source": [
    "#figure = visualization.TriangleFigure(width=12, height=12, prefix=\"x\")\n",
    "#figure.plot(data=theta_tensor)"
   ]
  },
  {
   "cell_type": "code",
   "execution_count": null,
   "id": "3bc21d86-a89e-4de5-9920-f8c4ed11cc71",
   "metadata": {},
   "outputs": [],
   "source": []
  }
 ],
 "metadata": {
  "kernelspec": {
   "display_name": "Python 3",
   "language": "python",
   "name": "python3"
  },
  "language_info": {
   "codemirror_mode": {
    "name": "ipython",
    "version": 3
   },
   "file_extension": ".py",
   "mimetype": "text/x-python",
   "name": "python",
   "nbconvert_exporter": "python",
   "pygments_lexer": "ipython3",
   "version": "3.9.7"
  }
 },
 "nbformat": 4,
 "nbformat_minor": 5
}
