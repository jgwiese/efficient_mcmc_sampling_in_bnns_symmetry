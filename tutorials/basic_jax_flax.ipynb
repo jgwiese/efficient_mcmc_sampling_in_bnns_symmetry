{
 "cells": [
  {
   "cell_type": "code",
   "execution_count": 1,
   "id": "72e4b7cb",
   "metadata": {},
   "outputs": [
    {
     "name": "stderr",
     "output_type": "stream",
     "text": [
      "WARNING:absl:No GPU/TPU found, falling back to CPU. (Set TF_CPP_MIN_LOG_LEVEL=0 and rerun for more info.)\n"
     ]
    }
   ],
   "source": [
    "import jax\n",
    "import jax.numpy as jnp\n",
    "import numpy as np\n",
    "from typing import Sequence\n",
    "from functools import reduce\n",
    "from jax.tree_util import tree_map, tree_flatten, tree_unflatten\n",
    "import flax.linen as nn\n",
    "\n",
    "import visualization\n",
    "from data import datasets\n",
    "\n",
    "%load_ext autoreload\n",
    "%autoreload 2\n",
    "%matplotlib agg"
   ]
  },
  {
   "cell_type": "code",
   "execution_count": 2,
   "id": "4b114bb0-5bec-4547-b690-e12fd2d9eb4f",
   "metadata": {},
   "outputs": [],
   "source": [
    "dataset = datasets.Sinusoidal(normalization=\"standardization\", rng_key=jax.random.PRNGKey(0))\n",
    "X_train, y_train = dataset[:]"
   ]
  },
  {
   "cell_type": "code",
   "execution_count": 3,
   "id": "2f84f14e-fd35-42af-b04d-78df26d1ff62",
   "metadata": {},
   "outputs": [
    {
     "data": {
      "image/png": "[encoded data removed]",
      "text/plain": [
       "<Figure size 282.843x282.843 with 3 Axes>"
      ]
     },
     "execution_count": 3,
     "metadata": {},
     "output_type": "execute_result"
    }
   ],
   "source": [
    "figure = visualization.TriangleFigure(prefix=\"x\", settings=visualization.TriangleSettings())\n",
    "figure.plot(data=dataset.data)"
   ]
  },
  {
   "cell_type": "code",
   "execution_count": 4,
   "id": "458ef45f-f95e-4404-a02d-f636636b42a7",
   "metadata": {},
   "outputs": [],
   "source": [
    "# flax nns"
   ]
  },
  {
   "cell_type": "code",
   "execution_count": 7,
   "id": "4ed81eb5-7477-4e00-94ed-7d230ea256c6",
   "metadata": {},
   "outputs": [],
   "source": [
    "class MLP(nn.Module):\n",
    "    features: Sequence[int]\n",
    "    \n",
    "    @nn.compact\n",
    "    def __call__(self, x):\n",
    "        for feat in self.features[:-1]:\n",
    "            x = nn.tanh(nn.Dense(feat, kernel_init=nn.initializers.zeros, bias_init=nn.initializers.zeros)(x))\n",
    "        x = nn.Dense(self.features[-1], kernel_init=nn.initializers.zeros, bias_init=nn.initializers.zeros)(x)\n",
    "        return x\n",
    "    \n",
    "    def init_from_vector(self, batch, v):\n",
    "        params = self.init(jax.random.PRNGKey(0), batch)  # I do not need random behaviour here.\n",
    "        leaves, treedef = tree_flatten(params)\n",
    "        new_leaves = []\n",
    "        accumulator = 0\n",
    "        for leaf in leaves:\n",
    "            size = reduce(lambda x, y: x * y, [s for s in leaf.shape])\n",
    "            new_leaves.append(v[accumulator:accumulator + size].reshape(leaf.shape))\n",
    "            accumulator += size\n",
    "        new_params = tree_unflatten(treedef, new_leaves)\n",
    "        return new_params"
   ]
  },
  {
   "cell_type": "code",
   "execution_count": 23,
   "id": "85bfb6ce-fe9e-4e41-8144-407b90cacb59",
   "metadata": {},
   "outputs": [
    {
     "name": "stdout",
     "output_type": "stream",
     "text": [
      "[-1.08951074  1.23218029 -1.20694435 -1.54915151 -1.15839751 -0.64165562\n",
      " -0.27010432 -0.26592099  0.07431301  1.47921823  0.21848605  0.7102585\n",
      "  1.86358139]\n",
      "FrozenDict({\n",
      "    params: {\n",
      "        Dense_0: {\n",
      "            bias: array([-1.08951074,  1.23218029, -1.20694435, -1.54915151]),\n",
      "            kernel: array([[-1.15839751, -0.64165562, -0.27010432, -0.26592099]]),\n",
      "        },\n",
      "        Dense_1: {\n",
      "            bias: array([0.07431301]),\n",
      "            kernel: array([[1.47921823],\n",
      "                   [0.21848605],\n",
      "                   [0.7102585 ],\n",
      "                   [1.86358139]]),\n",
      "        },\n",
      "    },\n",
      "})\n"
     ]
    }
   ],
   "source": [
    "model = MLP([4, 1])\n",
    "batch = jnp.ones((64, 1))\n",
    "w = np.random.normal(0, 1, 13)\n",
    "print(w)\n",
    "params = model.init_from_vector(batch, w)\n",
    "output = model.apply(params, batch)\n",
    "print(params)"
   ]
  },
  {
   "cell_type": "code",
   "execution_count": null,
   "id": "f426c120-9078-42ad-ab1f-90cc6a2915fa",
   "metadata": {},
   "outputs": [],
   "source": []
  }
 ],
 "metadata": {
  "kernelspec": {
   "display_name": "Python 3",
   "language": "python",
   "name": "python3"
  },
  "language_info": {
   "codemirror_mode": {
    "name": "ipython",
    "version": 3
   },
   "file_extension": ".py",
   "mimetype": "text/x-python",
   "name": "python",
   "nbconvert_exporter": "python",
   "pygments_lexer": "ipython3",
   "version": "3.9.7"
  }
 },
 "nbformat": 4,
 "nbformat_minor": 5
}
