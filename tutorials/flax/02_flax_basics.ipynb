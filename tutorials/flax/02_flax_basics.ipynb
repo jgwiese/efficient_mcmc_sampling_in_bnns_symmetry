{
 "cells": [
  {
   "cell_type": "code",
   "execution_count": 24,
   "id": "26583699-1f95-467c-9efc-83626a2fc0d0",
   "metadata": {},
   "outputs": [],
   "source": [
    "import jax\n",
    "from typing import Any, Callable, Sequence, Optional\n",
    "from jax import lax, random, numpy as jnp\n",
    "import flax\n",
    "from flax.core import freeze, unfreeze\n",
    "from flax import linen as nn\n",
    "import matplotlib.pyplot as plt"
   ]
  },
  {
   "cell_type": "code",
   "execution_count": 2,
   "id": "72c055c7-288c-401c-ba77-2111cb026a74",
   "metadata": {},
   "outputs": [],
   "source": [
    "model = nn.Dense(features=5)"
   ]
  },
  {
   "cell_type": "code",
   "execution_count": 30,
   "id": "50216795-15f1-4316-b81d-450251560cc5",
   "metadata": {},
   "outputs": [
    {
     "data": {
      "text/plain": [
       "FrozenDict({\n",
       "    params: {\n",
       "        bias: (5,),\n",
       "        kernel: (10, 5),\n",
       "    },\n",
       "})"
      ]
     },
     "execution_count": 30,
     "metadata": {},
     "output_type": "execute_result"
    }
   ],
   "source": [
    "key1, key2 = random.split(random.PRNGKey(0))\n",
    "x = random.normal(key1, (10, ))\n",
    "params = model.init(key2, x)\n",
    "\n",
    "jax.tree_map(lambda x: x.shape, params)"
   ]
  },
  {
   "cell_type": "code",
   "execution_count": 4,
   "id": "6d7ba5da-1438-4da5-b5bb-23033760d09e",
   "metadata": {},
   "outputs": [
    {
     "name": "stdout",
     "output_type": "stream",
     "text": [
      "Error:  FrozenDict is immutable.\n"
     ]
    }
   ],
   "source": [
    "try:\n",
    "    params['new_key'] = jnp.ones((2,2))\n",
    "except ValueError as e:\n",
    "    print(\"Error: \", e)"
   ]
  },
  {
   "cell_type": "code",
   "execution_count": 5,
   "id": "67c4692c-21cd-4f48-bb6b-5d1014ccbfef",
   "metadata": {},
   "outputs": [
    {
     "data": {
      "text/plain": [
       "DeviceArray([-0.7358945 ,  1.3583757 , -0.79768723,  0.8168597 ,\n",
       "              0.6297792 ], dtype=float32)"
      ]
     },
     "execution_count": 5,
     "metadata": {},
     "output_type": "execute_result"
    }
   ],
   "source": [
    "model.apply(params, x)"
   ]
  },
  {
   "cell_type": "code",
   "execution_count": 9,
   "id": "df043e06-e978-4555-80c3-af66adf3ced1",
   "metadata": {},
   "outputs": [
    {
     "name": "stdout",
     "output_type": "stream",
     "text": [
      "(20, 10) (20, 5)\n"
     ]
    }
   ],
   "source": [
    "nsamples = 20\n",
    "xdim = 10\n",
    "ydim = 5\n",
    "\n",
    "key = random.PRNGKey(0)\n",
    "k1, k2 = random.split(key)\n",
    "W = random.normal(k1, (xdim, ydim))\n",
    "b = random.normal(k2, (ydim, ))\n",
    "true_params = freeze({\"params\": {\"bias\": b, \"kernel\": W}})\n",
    "\n",
    "ksample, knoise = random.split(k1)\n",
    "x_samples = random.normal(ksample, (nsamples, xdim))\n",
    "y_samples = jnp.dot(x_samples, W) + b\n",
    "y_samples += 0.1 * random.normal(knoise, (nsamples, ydim))\n",
    "print(x_samples.shape, y_samples.shape)"
   ]
  },
  {
   "cell_type": "code",
   "execution_count": 19,
   "id": "7c31b259-4972-491d-8493-5ce417102a91",
   "metadata": {},
   "outputs": [],
   "source": [
    "def make_mse_func(x_batched, y_batched):\n",
    "    def mse(params):\n",
    "        def squared_error(x, y):\n",
    "            y_pred = model.apply(params, x)\n",
    "            return jnp.inner(y - y_pred, y - y_pred) / 2.0\n",
    "        return jnp.mean(jax.vmap(squared_error)(x_batched, y_batched), axis=0)\n",
    "    return jax.jit(mse)\n",
    "\n",
    "loss = make_mse_func(x_samples, y_samples)"
   ]
  },
  {
   "cell_type": "code",
   "execution_count": 20,
   "id": "ed9bf13b-c10d-4524-9d15-ed3e664f2ba4",
   "metadata": {},
   "outputs": [
    {
     "name": "stdout",
     "output_type": "stream",
     "text": [
      "<CompiledFunction of <function make_mse_func.<locals>.mse at 0x7f6fe47b6160>>\n"
     ]
    }
   ],
   "source": [
    "print(loss)"
   ]
  },
  {
   "cell_type": "code",
   "execution_count": 36,
   "id": "60f04f6f-52a8-4580-96bf-a058a8cebfb1",
   "metadata": {},
   "outputs": [
    {
     "name": "stdout",
     "output_type": "stream",
     "text": [
      "Loss for true W, b: 0.02363978\n",
      "<function make_mse_func.<locals>.mse at 0x7f6fc6a0f820>\n",
      "loss step 0:  0.07937195\n",
      "loss step 10:  0.030525435\n"
     ]
    }
   ],
   "source": [
    "alpha = 0.3\n",
    "print(\"Loss for true W, b:\", loss(true_params))\n",
    "grad_fn = jax.value_and_grad(loss)\n",
    "print(grad_fn)\n",
    "\n",
    "for i in range(11):\n",
    "    loss_val, grads = grad_fn(params)\n",
    "    params = jax.tree_multimap(lambda x, y: x - alpha * y, params, grads)\n",
    "    \n",
    "    if i % 10 == 0:\n",
    "        print(\"loss step {}: \".format(i), loss_val)"
   ]
  },
  {
   "cell_type": "code",
   "execution_count": 37,
   "id": "75cd738c-1f71-41f5-836d-da740b3d51e1",
   "metadata": {},
   "outputs": [
    {
     "data": {
      "text/plain": [
       "[<matplotlib.lines.Line2D at 0x7f6fc68c0ca0>]"
      ]
     },
     "execution_count": 37,
     "metadata": {},
     "output_type": "execute_result"
    },
    {
     "data": {
      "image/png": "[encoded data removed]",
      "text/plain": [
       "<Figure size 432x288 with 1 Axes>"
      ]
     },
     "metadata": {
      "needs_background": "light"
     },
     "output_type": "display_data"
    }
   ],
   "source": [
    "figure = plt.figure()\n",
    "ax = figure.add_subplot(1, 1, 1)\n",
    "ax.scatter(x_samples[:, 0], y_samples[:, 0])\n",
    "ax.plot(jnp.sort(x_samples[:, 0]), model.apply(true_params, jnp.sort(x_samples))[:, 0])\n",
    "ax.plot(jnp.sort(x_samples[:, 0]), model.apply(params, jnp.sort(x_samples))[:, 0])"
   ]
  },
  {
   "cell_type": "code",
   "execution_count": 39,
   "id": "df20ecd2-4f7a-48c4-b812-c5a84679649c",
   "metadata": {},
   "outputs": [],
   "source": [
    "import optax\n",
    "tx = optax.sgd(learning_rate=alpha)\n",
    "opt_state = tx.init(params)\n",
    "loss_grad_fn = jax.value_and_grad(loss)"
   ]
  },
  {
   "cell_type": "code",
   "execution_count": 48,
   "id": "a1dc790b-c883-4156-b43e-27322d3df8c0",
   "metadata": {},
   "outputs": [
    {
     "name": "stdout",
     "output_type": "stream",
     "text": [
      "loss 0 0.0115685435\n",
      "loss 10 0.011568409\n",
      "loss 20 0.011568367\n",
      "loss 30 0.011568333\n",
      "loss 40 0.011568352\n",
      "loss 50 0.0115683405\n",
      "loss 60 0.011568342\n",
      "loss 70 0.011568336\n",
      "loss 80 0.01156834\n",
      "loss 90 0.011568329\n",
      "loss 100 0.011568353\n"
     ]
    }
   ],
   "source": [
    "for i in range(101):\n",
    "    loss_val, grads = loss_grad_fn(params)\n",
    "    updates, opt_state = tx.update(grads, opt_state)  # updates are just (- alpha * grads) in this case\n",
    "    params = optax.apply_updates(params, updates)\n",
    "    \n",
    "    if i % 10 == 0:\n",
    "        print(\"loss\", i, loss_val)"
   ]
  },
  {
   "cell_type": "code",
   "execution_count": 49,
   "id": "c1a97fa3-7677-44ad-9ab7-63b5fe44fd54",
   "metadata": {},
   "outputs": [
    {
     "data": {
      "text/plain": [
       "[<matplotlib.lines.Line2D at 0x7f6fc669aa90>]"
      ]
     },
     "execution_count": 49,
     "metadata": {},
     "output_type": "execute_result"
    },
    {
     "data": {
      "image/png": "[encoded data removed]",
      "text/plain": [
       "<Figure size 432x288 with 1 Axes>"
      ]
     },
     "metadata": {
      "needs_background": "light"
     },
     "output_type": "display_data"
    }
   ],
   "source": [
    "figure = plt.figure()\n",
    "ax = figure.add_subplot(1, 1, 1)\n",
    "ax.scatter(x_samples[:, 0], y_samples[:, 0])\n",
    "ax.plot(jnp.sort(x_samples[:, 0]), model.apply(true_params, jnp.sort(x_samples))[:, 0])\n",
    "ax.plot(jnp.sort(x_samples[:, 0]), model.apply(params, jnp.sort(x_samples))[:, 0])"
   ]
  },
  {
   "cell_type": "markdown",
   "id": "7b6750f3-cbb5-4791-8826-7ea04437bafb",
   "metadata": {},
   "source": [
    "# Serializing the result"
   ]
  },
  {
   "cell_type": "code",
   "execution_count": 50,
   "id": "e3e25802-1137-4ff1-92d4-a88ff903671e",
   "metadata": {},
   "outputs": [
    {
     "name": "stdout",
     "output_type": "stream",
     "text": [
      "dict output\n",
      "{'params': {'bias': DeviceArray([-1.4540128 , -2.0262284 ,  2.0806592 ,  1.2201834 ,\n",
      "             -0.99645793], dtype=float32), 'kernel': DeviceArray([[ 1.0106653 ,  0.19014455,  0.0453378 , -0.9272261 ,\n",
      "               0.34720412],\n",
      "             [ 1.732027  ,  0.99012953,  1.1662257 ,  1.1027969 ,\n",
      "              -0.10575373],\n",
      "             [-1.2009131 ,  0.28837103,  1.4176371 ,  0.12073033,\n",
      "              -1.3132594 ],\n",
      "             [-1.1944951 , -0.18993154,  0.03379178,  1.316596  ,\n",
      "               0.07995883],\n",
      "             [ 0.14103432,  1.373805  , -1.3162088 ,  0.5340287 ,\n",
      "              -2.2396483 ],\n",
      "             [ 0.56430596,  0.81360954,  0.31888452,  0.5359262 ,\n",
      "               0.9035147 ],\n",
      "             [-0.37948105,  1.7408428 ,  1.0788049 , -0.5041871 ,\n",
      "               0.9286833 ],\n",
      "             [ 0.97013843, -1.3158668 ,  0.33630848,  0.80941194,\n",
      "              -1.2024575 ],\n",
      "             [ 1.0198245 , -0.6198281 ,  1.0822716 , -1.8385587 ,\n",
      "              -0.4579067 ],\n",
      "             [-0.6438426 ,  0.4564916 , -1.1331043 , -0.68556553,\n",
      "               0.1701061 ]], dtype=float32)}}\n",
      "bytes output\n",
      "b'\\x81\\xa6params\\x82\\xa4bias\\xc7!\\x01\\x93\\x91\\x05\\xa7float32\\xc4\\x14\\x17\\x1d\\xba\\xbf\\xba\\xad\\x01\\xc0\\x85)\\x05@\\xf8.\\x9c?\\xde\\x17\\x7f\\xbf\\xa6kernel\\xc7\\xd6\\x01\\x93\\x92\\n\\x05\\xa7float32\\xc4\\xc8{]\\x81?A\\xb5B>\"\\xb49=\\xb1^m\\xbf\\xbd\\xc4\\xb1>\\x10\\xb3\\xdd?!y}?\\xe2F\\x95?s(\\x8d?i\\x95\\xd8\\xbd\\x85\\xb7\\x99\\xbf^\\xa5\\x93>\"u\\xb5?wA\\xf7=\\xe2\\x18\\xa8\\xbf7\\xe5\\x98\\xbfj}B\\xbeAi\\n=8\\x86\\xa8?t\\xc1\\xa3=Mk\\x10>\\xd8\\xd8\\xaf?\\x88y\\xa8\\xbf\\x1b\\xb6\\x08?fV\\x0f\\xc0[v\\x10?\\xb7HP?\\xd5D\\xa3>v2\\t?\\xbdLg?WK\\xc2\\xbe\\xf0\\xd3\\xde?G\\x16\\x8a?h\\x12\\x01\\xbf0\\xbem?\\xfeZx?Sn\\xa8\\xbf\\xa00\\xac>\\x9f5O?!\\xea\\x99\\xbf\\x9c\\x89\\x82?\\x0e\\xad\\x1e\\xbf\\xe0\\x87\\x8a?\\xe4U\\xeb\\xbf\\xbfr\\xea\\xbe\\xde\\xd2$\\xbfD\\xb9\\xe9>\\x90\\t\\x91\\xbf9\\x81/\\xbfK0.>'\n"
     ]
    }
   ],
   "source": [
    "from flax import serialization\n",
    "bytes_output = serialization.to_bytes(params)\n",
    "dict_output = serialization.to_state_dict(params)\n",
    "print(\"dict output\")\n",
    "print(dict_output)\n",
    "print(\"bytes output\")\n",
    "print(bytes_output)"
   ]
  },
  {
   "cell_type": "code",
   "execution_count": 51,
   "id": "58bc3dc7-e573-41ae-8ae6-c2fc0608a15c",
   "metadata": {},
   "outputs": [
    {
     "data": {
      "text/plain": [
       "FrozenDict({\n",
       "    params: {\n",
       "        bias: array([-1.4540128 , -2.0262284 ,  2.0806592 ,  1.2201834 , -0.99645793],\n",
       "              dtype=float32),\n",
       "        kernel: array([[ 1.0106653 ,  0.19014455,  0.0453378 , -0.9272261 ,  0.34720412],\n",
       "               [ 1.732027  ,  0.99012953,  1.1662257 ,  1.1027969 , -0.10575373],\n",
       "               [-1.2009131 ,  0.28837103,  1.4176371 ,  0.12073033, -1.3132594 ],\n",
       "               [-1.1944951 , -0.18993154,  0.03379178,  1.316596  ,  0.07995883],\n",
       "               [ 0.14103432,  1.373805  , -1.3162088 ,  0.5340287 , -2.2396483 ],\n",
       "               [ 0.56430596,  0.81360954,  0.31888452,  0.5359262 ,  0.9035147 ],\n",
       "               [-0.37948105,  1.7408428 ,  1.0788049 , -0.5041871 ,  0.9286833 ],\n",
       "               [ 0.97013843, -1.3158668 ,  0.33630848,  0.80941194, -1.2024575 ],\n",
       "               [ 1.0198245 , -0.6198281 ,  1.0822716 , -1.8385587 , -0.4579067 ],\n",
       "               [-0.6438426 ,  0.4564916 , -1.1331043 , -0.68556553,  0.1701061 ]],\n",
       "              dtype=float32),\n",
       "    },\n",
       "})"
      ]
     },
     "execution_count": 51,
     "metadata": {},
     "output_type": "execute_result"
    }
   ],
   "source": [
    "serialization.from_bytes(params, bytes_output)"
   ]
  },
  {
   "cell_type": "markdown",
   "id": "aa54b072-7c04-42ba-a315-fcaae2ea83c0",
   "metadata": {},
   "source": [
    "# Defining your own models"
   ]
  },
  {
   "cell_type": "code",
   "execution_count": 59,
   "id": "45062517-4703-45f3-b04a-e252926d20e7",
   "metadata": {},
   "outputs": [
    {
     "name": "stdout",
     "output_type": "stream",
     "text": [
      "initialized parameter shapes:\n",
      " {'params': {'layers_0': {'bias': (3,), 'kernel': (4, 3)}, 'layers_1': {'bias': (4,), 'kernel': (3, 4)}, 'layers_2': {'bias': (5,), 'kernel': (4, 5)}}}\n",
      "output:\n",
      " [[ 4.2292755e-02 -4.3807041e-02  2.9323744e-02  6.5492424e-03\n",
      "  -1.7147157e-02]\n",
      " [ 1.2967803e-01 -1.4551784e-01  9.4432138e-02  1.2521380e-02\n",
      "  -4.5417283e-02]\n",
      " [ 0.0000000e+00  0.0000000e+00  0.0000000e+00  0.0000000e+00\n",
      "   0.0000000e+00]\n",
      " [ 9.3024079e-04  2.7864418e-05  2.4478836e-04  8.1344321e-04\n",
      "  -1.0110774e-03]]\n"
     ]
    }
   ],
   "source": [
    "class ExplicitMLP(nn.Module):\n",
    "    features: Sequence[int]\n",
    "    \n",
    "    def setup(self):\n",
    "        self.layers = [nn.Dense(feat) for feat in self.features]\n",
    "    \n",
    "    def __call__(self, inputs):\n",
    "        x = inputs\n",
    "        for i, lyr in enumerate(self.layers):\n",
    "            x = lyr(x)  # Apparently the parameters are internally set first by .apply(), this cannot be called from outside.\n",
    "            if i != len(self.layers) - 1:\n",
    "                x = nn.relu(x)\n",
    "        return x\n",
    "\n",
    "key1, key2 = random.split(random.PRNGKey(0), 2)\n",
    "x = random.uniform(key1, (4, 4))\n",
    "\n",
    "model = ExplicitMLP(features=[3, 4, 5])\n",
    "params = model.init(key2, x)\n",
    "y = model.apply(params, x)\n",
    "\n",
    "print('initialized parameter shapes:\\n', jax.tree_map(jnp.shape, unfreeze(params)))\n",
    "print('output:\\n', y)"
   ]
  },
  {
   "cell_type": "code",
   "execution_count": 61,
   "id": "1661e44a-9100-4f48-b92e-878db445ec14",
   "metadata": {},
   "outputs": [
    {
     "name": "stdout",
     "output_type": "stream",
     "text": [
      "\"ExplicitMLP\" object has no attribute \"layers\"\n"
     ]
    }
   ],
   "source": [
    "try:\n",
    "    y = model(x) # Returns an error\n",
    "except AttributeError as e:\n",
    "    print(e)"
   ]
  },
  {
   "cell_type": "code",
   "execution_count": 70,
   "id": "ab4883ac-f40b-44f5-9d17-d613e52f85bc",
   "metadata": {},
   "outputs": [
    {
     "name": "stdout",
     "output_type": "stream",
     "text": [
      "initialized parameter shapes:\n",
      " {'params': {'layers_0': {'bias': (3,), 'kernel': (4, 3)}, 'layers_1': {'bias': (4,), 'kernel': (3, 4)}, 'layers_2': {'bias': (5,), 'kernel': (4, 5)}}}\n",
      "output:\n",
      " [[ 0.00968247 -0.01002915  0.00671335  0.00149938 -0.00392566]\n",
      " [ 0.11862263 -0.12286989  0.08224718  0.0183693  -0.04809431]\n",
      " [ 0.          0.          0.          0.          0.        ]\n",
      " [ 0.          0.          0.          0.          0.        ]]\n"
     ]
    }
   ],
   "source": [
    "class SimpleMLP(nn.Module):\n",
    "    features: Sequence[int]\n",
    "    \n",
    "    @nn.compact\n",
    "    def __call__(self, inputs):\n",
    "        x = inputs\n",
    "        for i , feat in enumerate(self.features):\n",
    "            x = nn.Dense(feat, name=f\"layers_{i}\")(x)\n",
    "            if i != len(self.features) - 1:\n",
    "                x = nn.relu(x)\n",
    "        return x\n",
    "\n",
    "key1, key2 = random.split(random.PRNGKey(0), 2)\n",
    "x = random.uniform(key2, (4, 4))\n",
    "\n",
    "model = SimpleMLP(features=[3, 4, 5])\n",
    "params = model.init(key2, x)\n",
    "y = model.apply(params, x)\n",
    "\n",
    "print('initialized parameter shapes:\\n', jax.tree_map(jnp.shape, unfreeze(params)))\n",
    "print('output:\\n', y)"
   ]
  },
  {
   "cell_type": "markdown",
   "id": "47a936ea-df55-4d33-bde6-4638baedb2a9",
   "metadata": {},
   "source": [
    "# Module parameters"
   ]
  },
  {
   "cell_type": "code",
   "execution_count": 71,
   "id": "02be52b9-1471-48f3-b685-aa5b670bddd4",
   "metadata": {},
   "outputs": [
    {
     "name": "stdout",
     "output_type": "stream",
     "text": [
      "initialized parameters:\n",
      " FrozenDict({\n",
      "    params: {\n",
      "        kernel: DeviceArray([[ 0.6503669 ,  0.8678977 ,  0.4604268 ],\n",
      "                     [ 0.05673932,  0.99092865, -0.63536596],\n",
      "                     [ 0.76134115, -0.3250529 , -0.65221626],\n",
      "                     [-0.82430327,  0.4150194 ,  0.19405054]], dtype=float32),\n",
      "        bias: DeviceArray([0., 0., 0.], dtype=float32),\n",
      "    },\n",
      "})\n",
      "output:\n",
      " [[ 0.5035518   1.8548558  -0.42701954]\n",
      " [ 0.0279097   0.5589246  -0.43061775]\n",
      " [ 0.35471284  1.5740999  -0.32865518]\n",
      " [ 0.52648634  1.2928857   0.10089307]]\n"
     ]
    }
   ],
   "source": [
    "class SimpleDense(nn.Module):\n",
    "    features: int\n",
    "    kernel_init: Callable = nn.initializers.lecun_normal()\n",
    "    bias_init: Callable = nn.initializers.zeros\n",
    "    \n",
    "    @nn.compact\n",
    "    def __call__(self, inputs):\n",
    "        kernel = self.param(\"kernel\",\n",
    "                            self.kernel_init,\n",
    "                            (inputs.shape[-1], self.features))\n",
    "        y = lax.dot_general(inputs, kernel,\n",
    "                            (((inputs.ndim - 1, ), (0, )), ((), ())), )\n",
    "        bias = self.param(\"bias\", self.bias_init, (self.features, ))\n",
    "        y = y + bias\n",
    "        return y\n",
    "\n",
    "key1, key2 = random.split(random.PRNGKey(0), 2)\n",
    "x = random.uniform(key1, (4, 4))\n",
    "\n",
    "model = SimpleDense(features=3)\n",
    "params = model.init(key2, x)\n",
    "y = model.apply(params, x)\n",
    "\n",
    "print('initialized parameters:\\n', params)\n",
    "print('output:\\n', y)"
   ]
  },
  {
   "cell_type": "markdown",
   "id": "9ce60531-1f07-4c6c-9154-b702123f65b2",
   "metadata": {},
   "source": [
    "# Variables and collections of variables"
   ]
  },
  {
   "cell_type": "code",
   "execution_count": 72,
   "id": "96b755f8-c844-4935-87b7-1010239bd947",
   "metadata": {},
   "outputs": [
    {
     "name": "stdout",
     "output_type": "stream",
     "text": [
      "initialized variables:\n",
      " FrozenDict({\n",
      "    batch_stats: {\n",
      "        mean: DeviceArray([0., 0., 0., 0., 0.], dtype=float32),\n",
      "    },\n",
      "    params: {\n",
      "        bias: DeviceArray([0., 0., 0., 0., 0.], dtype=float32),\n",
      "    },\n",
      "})\n",
      "updated state:\n",
      " FrozenDict({\n",
      "    batch_stats: {\n",
      "        mean: DeviceArray([[0.01, 0.01, 0.01, 0.01, 0.01]], dtype=float32),\n",
      "    },\n",
      "})\n"
     ]
    }
   ],
   "source": [
    "class BiasAdderWithRunningMean(nn.Module):\n",
    "  decay: float = 0.99\n",
    "\n",
    "  @nn.compact\n",
    "  def __call__(self, x):\n",
    "    # easy pattern to detect if we're initializing via empty variable tree\n",
    "    is_initialized = self.has_variable('batch_stats', 'mean')\n",
    "    ra_mean = self.variable('batch_stats', 'mean',\n",
    "                            lambda s: jnp.zeros(s),\n",
    "                            x.shape[1:])\n",
    "    mean = ra_mean.value # This will either get the value or trigger init\n",
    "    bias = self.param('bias', lambda rng, shape: jnp.zeros(shape), x.shape[1:])\n",
    "    if is_initialized:\n",
    "      ra_mean.value = self.decay * ra_mean.value + (1.0 - self.decay) * jnp.mean(x, axis=0, keepdims=True)\n",
    "\n",
    "    return x - ra_mean.value + bias\n",
    "\n",
    "\n",
    "key1, key2 = random.split(random.PRNGKey(0), 2)\n",
    "x = jnp.ones((10,5))\n",
    "model = BiasAdderWithRunningMean()\n",
    "variables = model.init(key1, x)\n",
    "print('initialized variables:\\n', variables)\n",
    "y, updated_state = model.apply(variables, x, mutable=['batch_stats'])\n",
    "print('updated state:\\n', updated_state)"
   ]
  },
  {
   "cell_type": "code",
   "execution_count": 73,
   "id": "35950b0c-8edc-4833-a908-2db7455be5d5",
   "metadata": {},
   "outputs": [
    {
     "name": "stdout",
     "output_type": "stream",
     "text": [
      "updated state:\n",
      " FrozenDict({\n",
      "    batch_stats: {\n",
      "        mean: DeviceArray([[0.01, 0.01, 0.01, 0.01, 0.01]], dtype=float32),\n",
      "    },\n",
      "})\n",
      "updated state:\n",
      " FrozenDict({\n",
      "    batch_stats: {\n",
      "        mean: DeviceArray([[0.0299, 0.0299, 0.0299, 0.0299, 0.0299]], dtype=float32),\n",
      "    },\n",
      "})\n",
      "updated state:\n",
      " FrozenDict({\n",
      "    batch_stats: {\n",
      "        mean: DeviceArray([[0.059601, 0.059601, 0.059601, 0.059601, 0.059601]], dtype=float32),\n",
      "    },\n",
      "})\n"
     ]
    }
   ],
   "source": [
    "for val in [1.0, 2.0, 3.0]:\n",
    "  x = val * jnp.ones((10,5))\n",
    "  y, updated_state = model.apply(variables, x, mutable=['batch_stats'])\n",
    "  old_state, params = variables.pop('params')\n",
    "  variables = freeze({'params': params, **updated_state})\n",
    "  print('updated state:\\n', updated_state) # Shows only the mutable part"
   ]
  },
  {
   "cell_type": "code",
   "execution_count": 74,
   "id": "e5d0540f-670a-4852-8a61-5bfe604a911e",
   "metadata": {},
   "outputs": [
    {
     "name": "stdout",
     "output_type": "stream",
     "text": [
      "Updated state:  FrozenDict({\n",
      "    batch_stats: {\n",
      "        mean: DeviceArray([[0.01, 0.01, 0.01, 0.01, 0.01]], dtype=float32),\n",
      "    },\n",
      "})\n",
      "Updated state:  FrozenDict({\n",
      "    batch_stats: {\n",
      "        mean: DeviceArray([[0.0199, 0.0199, 0.0199, 0.0199, 0.0199]], dtype=float32),\n",
      "    },\n",
      "})\n",
      "Updated state:  FrozenDict({\n",
      "    batch_stats: {\n",
      "        mean: DeviceArray([[0.029701, 0.029701, 0.029701, 0.029701, 0.029701]], dtype=float32),\n",
      "    },\n",
      "})\n"
     ]
    }
   ],
   "source": [
    "def update_step(tx, apply_fn, x, opt_state, params, state):\n",
    "\n",
    "  def loss(params):\n",
    "    y, updated_state = apply_fn({'params': params, **state},\n",
    "                                x, mutable=list(state.keys()))\n",
    "    l = ((x - y) ** 2).sum()\n",
    "    return l, updated_state\n",
    "\n",
    "  (l, state), grads = jax.value_and_grad(loss, has_aux=True)(params)\n",
    "  updates, opt_state = tx.update(grads, opt_state)\n",
    "  params = optax.apply_updates(params, updates)\n",
    "  return opt_state, params, state\n",
    "\n",
    "x = jnp.ones((10,5))\n",
    "variables = model.init(random.PRNGKey(0), x)\n",
    "state, params = variables.pop('params')\n",
    "del variables\n",
    "tx = optax.sgd(learning_rate=0.02)\n",
    "opt_state = tx.init(params)\n",
    "\n",
    "for _ in range(3):\n",
    "  opt_state, params, state = update_step(tx, model.apply, x, opt_state, params, state)\n",
    "  print('Updated state: ', state)"
   ]
  },
  {
   "cell_type": "code",
   "execution_count": null,
   "id": "86a41a62-ff33-4dbe-a8ce-6395cf31bb1b",
   "metadata": {},
   "outputs": [],
   "source": []
  }
 ],
 "metadata": {
  "kernelspec": {
   "display_name": "Python 3 (ipykernel)",
   "language": "python",
   "name": "python3"
  },
  "language_info": {
   "codemirror_mode": {
    "name": "ipython",
    "version": 3
   },
   "file_extension": ".py",
   "mimetype": "text/x-python",
   "name": "python",
   "nbconvert_exporter": "python",
   "pygments_lexer": "ipython3",
   "version": "3.9.7"
  }
 },
 "nbformat": 4,
 "nbformat_minor": 5
}
