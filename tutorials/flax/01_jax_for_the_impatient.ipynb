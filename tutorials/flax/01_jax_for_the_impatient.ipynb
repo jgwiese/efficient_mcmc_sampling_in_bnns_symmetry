{
 "cells": [
  {
   "cell_type": "code",
   "execution_count": 1,
   "id": "99cbff5f-5ebe-4828-8c74-282987484d8d",
   "metadata": {},
   "outputs": [],
   "source": [
    "import jax\n",
    "from jax import numpy as jnp, random\n",
    "\n",
    "import numpy as np"
   ]
  },
  {
   "cell_type": "code",
   "execution_count": 3,
   "id": "0f89f171-4d6a-48ad-93b3-f1444b60bf1b",
   "metadata": {},
   "outputs": [
    {
     "name": "stderr",
     "output_type": "stream",
     "text": [
      "WARNING:absl:No GPU/TPU found, falling back to CPU. (Set TF_CPP_MIN_LOG_LEVEL=0 and rerun for more info.)\n"
     ]
    }
   ],
   "source": [
    "m = jnp.ones((4, 4))\n",
    "n = jnp.array([[1.0, 2.0, 3.0, 4.0],\n",
    "               [5.0, 6.0, 7.0, 8.0]])"
   ]
  },
  {
   "cell_type": "code",
   "execution_count": 5,
   "id": "a486bb6c-24b2-4862-9e6a-ca562efe4674",
   "metadata": {},
   "outputs": [
    {
     "data": {
      "text/plain": [
       "DeviceArray([[10., 10., 10., 10.],\n",
       "             [26., 26., 26., 26.]], dtype=float32)"
      ]
     },
     "execution_count": 5,
     "metadata": {},
     "output_type": "execute_result"
    }
   ],
   "source": [
    "jnp.dot(n, m).block_until_ready()"
   ]
  },
  {
   "cell_type": "code",
   "execution_count": 7,
   "id": "ba266d78-d2f3-410b-a15f-2a1b80511c03",
   "metadata": {},
   "outputs": [
    {
     "data": {
      "text/plain": [
       "DeviceArray([[ 0.45263553,  0.45263553,  0.45263553,  0.45263553],\n",
       "             [-2.0426471 , -2.0426471 , -2.0426471 , -2.0426471 ],\n",
       "             [ 0.51482403,  0.51482403,  0.51482403,  0.51482403],\n",
       "             [-0.7884301 , -0.7884301 , -0.7884301 , -0.7884301 ]],            dtype=float32)"
      ]
     },
     "execution_count": 7,
     "metadata": {},
     "output_type": "execute_result"
    }
   ],
   "source": [
    "x = np.random.normal(size=(4, 4))\n",
    "jnp.dot(x, m)"
   ]
  },
  {
   "cell_type": "code",
   "execution_count": 8,
   "id": "5dfba2e0-7f60-4327-b008-248eab30accd",
   "metadata": {},
   "outputs": [
    {
     "data": {
      "text/plain": [
       "DeviceArray([[-1.4127041 ,  1.6085347 ,  1.3522464 ,  1.0449023 ],\n",
       "             [ 0.17783222,  1.1720319 ,  0.95847964,  1.5528187 ],\n",
       "             [ 0.90853834,  1.0746685 ,  0.12175217,  1.2544447 ],\n",
       "             [-0.87096745,  0.738765  ,  0.05836585,  0.31426382]],            dtype=float32)"
      ]
     },
     "execution_count": 8,
     "metadata": {},
     "output_type": "execute_result"
    }
   ],
   "source": [
    "x = np.random.normal(size=(4, 4))\n",
    "x = jax.device_put(x)\n",
    "x"
   ]
  },
  {
   "cell_type": "code",
   "execution_count": 12,
   "id": "b43b67aa-7b05-4dc4-8a1f-fe09b0e4755d",
   "metadata": {},
   "outputs": [],
   "source": [
    "x = jnp.array([[1.0, 2.0, 3.0, 4.0],\n",
    "               [5.0, 6.0, 7.0, 8.0]])\n",
    "updated = jax.ops.index_update(x, (0, 0), 3.0)"
   ]
  },
  {
   "cell_type": "code",
   "execution_count": 14,
   "id": "076a6740-4766-4ac5-b625-3418e8472023",
   "metadata": {},
   "outputs": [
    {
     "name": "stdout",
     "output_type": "stream",
     "text": [
      "[[1. 2. 3. 4.]\n",
      " [5. 6. 7. 8.]]\n",
      "[[3. 2. 3. 4.]\n",
      " [5. 6. 7. 8.]]\n"
     ]
    }
   ],
   "source": [
    "print(x)\n",
    "print(updated)"
   ]
  },
  {
   "cell_type": "code",
   "execution_count": 16,
   "id": "928f6f84-e36c-4e91-b19e-26ba68fd7565",
   "metadata": {},
   "outputs": [
    {
     "data": {
      "text/plain": [
       "DeviceArray([[3., 3., 3., 3.],\n",
       "             [5., 6., 7., 8.]], dtype=float32)"
      ]
     },
     "execution_count": 16,
     "metadata": {},
     "output_type": "execute_result"
    }
   ],
   "source": [
    "jax.ops.index_update(x, jax.ops.index[0, :], 3.0)"
   ]
  },
  {
   "cell_type": "code",
   "execution_count": 17,
   "id": "ce8520e1-0913-4eeb-810e-97057405ddc4",
   "metadata": {},
   "outputs": [
    {
     "name": "stdout",
     "output_type": "stream",
     "text": [
      "[[1. 2. 3. 4.]\n",
      " [5. 6. 7. 8.]]\n"
     ]
    }
   ],
   "source": [
    "print(x)"
   ]
  },
  {
   "cell_type": "code",
   "execution_count": 18,
   "id": "92e32f37-b024-4433-a249-68e64576a3c5",
   "metadata": {},
   "outputs": [
    {
     "data": {
      "text/plain": [
       "DeviceArray([[3., 3., 3., 3.],\n",
       "             [5., 6., 7., 8.]], dtype=float32)"
      ]
     },
     "execution_count": 18,
     "metadata": {},
     "output_type": "execute_result"
    }
   ],
   "source": [
    "x.at[0, :].set(3.0)"
   ]
  },
  {
   "cell_type": "code",
   "execution_count": 19,
   "id": "22e477d8-6860-4533-88e6-e6ba9eef8174",
   "metadata": {},
   "outputs": [
    {
     "name": "stdout",
     "output_type": "stream",
     "text": [
      "[[1. 2. 3. 4.]\n",
      " [5. 6. 7. 8.]]\n"
     ]
    }
   ],
   "source": [
    "print(x)"
   ]
  },
  {
   "cell_type": "code",
   "execution_count": 24,
   "id": "855f9a84-e51d-4801-962c-34498e347273",
   "metadata": {},
   "outputs": [
    {
     "data": {
      "text/plain": [
       "DeviceArray([0, 0], dtype=uint32)"
      ]
     },
     "execution_count": 24,
     "metadata": {},
     "output_type": "execute_result"
    }
   ],
   "source": [
    "key = random.PRNGKey(0)\n",
    "key"
   ]
  },
  {
   "cell_type": "code",
   "execution_count": 25,
   "id": "94757e15-dce7-44f0-a533-702593a06acb",
   "metadata": {},
   "outputs": [
    {
     "name": "stdout",
     "output_type": "stream",
     "text": [
      "Printing the random number using key:  [0 0]  gives:  [-0.20584235]\n",
      "Printing the random number using key:  [0 0]  gives:  [-0.20584235]\n",
      "Printing the random number using key:  [0 0]  gives:  [-0.20584235]\n"
     ]
    }
   ],
   "source": [
    "for i in range(3):\n",
    "    print(\"Printing the random number using key: \", key, \" gives: \", random.normal(key,shape=(1,))) # Boringly not that random since we use the same key"
   ]
  },
  {
   "cell_type": "code",
   "execution_count": 26,
   "id": "870a6f7c-db93-4f16-9bfa-4ba3adc8531e",
   "metadata": {},
   "outputs": [
    {
     "name": "stdout",
     "output_type": "stream",
     "text": [
      "old key [0 0] --> normal [-0.20584235]\n",
      "    \\---SPLIT --> new key    [4146024105  967050713] --> normal [0.14389044]\n",
      "             \\--> new subkey [2718843009 1272950319] --> normal [-1.2515389]\n"
     ]
    }
   ],
   "source": [
    "print(\"old key\", key, \"--> normal\", random.normal(key, shape=(1,)))\n",
    "key, subkey = random.split(key)\n",
    "print(\"    \\---SPLIT --> new key   \", key, \"--> normal\", random.normal(key, shape=(1,)) )\n",
    "print(\"             \\--> new subkey\", subkey, \"--> normal\", random.normal(subkey, shape=(1,)) )"
   ]
  },
  {
   "cell_type": "code",
   "execution_count": 27,
   "id": "f73af05e-0ab1-4d31-8ccb-e0fb4f1336de",
   "metadata": {},
   "outputs": [
    {
     "data": {
      "text/plain": [
       "(DeviceArray([3306097435, 3899823266], dtype=uint32),\n",
       " [DeviceArray([147607341, 367236428], dtype=uint32),\n",
       "  DeviceArray([2280136339, 1907318301], dtype=uint32),\n",
       "  DeviceArray([ 781391491, 1939998335], dtype=uint32)])"
      ]
     },
     "execution_count": 27,
     "metadata": {},
     "output_type": "execute_result"
    }
   ],
   "source": [
    "key, *subkeys = random.split(key, 4)\n",
    "key, subkeys"
   ]
  },
  {
   "cell_type": "code",
   "execution_count": 33,
   "id": "12fdd513-094e-4fb9-9224-6018862dbeee",
   "metadata": {},
   "outputs": [
    {
     "name": "stdout",
     "output_type": "stream",
     "text": [
      "<class 'list'>\n"
     ]
    }
   ],
   "source": [
    "print(type(subkeys))"
   ]
  },
  {
   "cell_type": "code",
   "execution_count": 34,
   "id": "66bb8530-9142-40b0-b3a6-da1d42b0d7d3",
   "metadata": {},
   "outputs": [
    {
     "data": {
      "text/plain": [
       "DeviceArray(2., dtype=float32)"
      ]
     },
     "execution_count": 34,
     "metadata": {},
     "output_type": "execute_result"
    }
   ],
   "source": [
    "key = random.PRNGKey(0)\n",
    "def f(x):\n",
    "    return jnp.dot(x.T, x) / 2.0\n",
    "\n",
    "v = jnp.ones((4, ))\n",
    "f(v)"
   ]
  },
  {
   "cell_type": "code",
   "execution_count": 43,
   "id": "f9615f12-9685-4e26-8cc6-e37efdeff576",
   "metadata": {},
   "outputs": [
    {
     "name": "stdout",
     "output_type": "stream",
     "text": [
      "[ 1.8160859  -0.7548852   0.33988902 -0.5348355 ]\n",
      "[ 1.8160859  -0.7548852   0.33988902 -0.5348355 ]\n"
     ]
    }
   ],
   "source": [
    "f_grad = jax.grad(f)\n",
    "v = jax.random.normal(key, (4, ))\n",
    "print(v)\n",
    "print(f_grad(v))"
   ]
  },
  {
   "cell_type": "code",
   "execution_count": 44,
   "id": "81b6db56-1c2a-4ed1-b4b9-d9cfd253e474",
   "metadata": {},
   "outputs": [
    {
     "name": "stdout",
     "output_type": "stream",
     "text": [
      "(x,f(x))\n",
      "(DeviceArray([ 0.18784378, -1.2833427 , -0.27109176,  1.2490592 ,\n",
      "              0.24446994], dtype=float32), DeviceArray([0.01764264, 0.82348424, 0.03674537, 0.7800744 , 0.02988278],            dtype=float32))\n",
      "jax.jvp(f, (x,),(v,))\n",
      "(DeviceArray([0.01764264, 0.82348424, 0.03674537, 0.7800744 , 0.02988278],            dtype=float32), DeviceArray([ 0.18784378, -1.2833427 , -0.27109176,  1.2490592 ,\n",
      "              0.24446994], dtype=float32))\n"
     ]
    }
   ],
   "source": [
    "def f(x):\n",
    "    return jnp.multiply(x, x) / 2.0\n",
    "\n",
    "x = random.normal(key, (5, ))\n",
    "v = jnp.ones(5)\n",
    "print(\"(x,f(x))\")\n",
    "print((x,f(x)))\n",
    "print(\"jax.jvp(f, (x,),(v,))\")\n",
    "print(jax.jvp(f, (x,),(v,)))"
   ]
  },
  {
   "cell_type": "code",
   "execution_count": 45,
   "id": "e507a90f-9a34-4915-ae6f-8de6da49efbf",
   "metadata": {},
   "outputs": [
    {
     "name": "stdout",
     "output_type": "stream",
     "text": [
      "x =  [ 0.18784378 -1.2833427  -0.27109176  1.2490592   0.24446994]\n",
      "v^T Jf(x) =  [ 0.18784378 -1.2833427  -0.27109176  1.2490592   0.24446994]\n"
     ]
    }
   ],
   "source": [
    "(val, jvp_fun) = jax.vjp(f,x)\n",
    "print(\"x = \", x)\n",
    "print(\"v^T Jf(x) = \", jvp_fun(jnp.ones((5,)))[0])"
   ]
  },
  {
   "cell_type": "code",
   "execution_count": 46,
   "id": "a4b843d3-46fc-4184-9327-5a2a1afdedfc",
   "metadata": {},
   "outputs": [
    {
     "name": "stdout",
     "output_type": "stream",
     "text": [
      "8.3 ms ± 401 µs per loop (mean ± std. dev. of 7 runs, 100 loops each)\n"
     ]
    }
   ],
   "source": [
    "def selu(x, alpha=1.67, lmbda=1.05):\n",
    "  return lmbda * jnp.where(x > 0, x, alpha * jnp.exp(x) - alpha)\n",
    "\n",
    "v = random.normal(key, (1000000,))\n",
    "%timeit selu(v).block_until_ready()"
   ]
  },
  {
   "cell_type": "code",
   "execution_count": 47,
   "id": "8854d940-9dc2-4059-9b55-9d62f14725bf",
   "metadata": {},
   "outputs": [
    {
     "name": "stdout",
     "output_type": "stream",
     "text": [
      "2.33 ms ± 104 µs per loop (mean ± std. dev. of 7 runs, 100 loops each)\n"
     ]
    }
   ],
   "source": [
    "selu_jit = jax.jit(selu)\n",
    "%timeit selu_jit(v).block_until_ready()"
   ]
  },
  {
   "cell_type": "markdown",
   "id": "43f8a622-1096-49b3-a6cd-861761614351",
   "metadata": {},
   "source": [
    "# Linear Regression"
   ]
  },
  {
   "cell_type": "code",
   "execution_count": 68,
   "id": "a10cba1a-686e-4019-bbe9-d19c2fc1301e",
   "metadata": {},
   "outputs": [],
   "source": [
    "key = random.PRNGKey(0)\n",
    "\n",
    "def make_predict(W, b):\n",
    "    def predict(x):\n",
    "        return jnp.dot(W, x) + b\n",
    "    return predict\n",
    "\n",
    "def make_mse(x_batched, y_batched):\n",
    "    def mse(W, b):\n",
    "        def squared_error(x, y):\n",
    "            y_pred = make_predict(W, b) (x)\n",
    "            return jnp.inner(y - y_pred, y - y_pred) / 2.0\n",
    "        return jnp.mean(jax.vmap(squared_error) (x_batched, y_batched), axis=0)\n",
    "    return jax.jit(mse)  # what about @jit?"
   ]
  },
  {
   "cell_type": "code",
   "execution_count": 69,
   "id": "15583add-c8a5-4fc9-be50-34768721fd40",
   "metadata": {},
   "outputs": [
    {
     "name": "stdout",
     "output_type": "stream",
     "text": [
      "(20, 10) (20, 5)\n"
     ]
    }
   ],
   "source": [
    "nsamples = 20\n",
    "xdim = 10\n",
    "ydim = 5\n",
    "std_noise = 0.1\n",
    "\n",
    "# generate random ground truth W and b\n",
    "k1, k2 = random.split(key)\n",
    "W = random.normal(k1, (ydim, xdim))\n",
    "b = random.normal(k2, (ydim, ))\n",
    "true_predict = make_predict(W, b)\n",
    "\n",
    "# Generate samples with additional noise\n",
    "ksample, knoise = random.split(k1)\n",
    "x_samples = random.normal(ksample, (nsamples, xdim))\n",
    "y_samples = jax.vmap(true_predict) (x_samples) + std_noise * random.normal(knoise, (nsamples, ydim))\n",
    "\n",
    "mse = make_mse(x_samples, y_samples)\n",
    "print(x_samples.shape, y_samples.shape)"
   ]
  },
  {
   "cell_type": "code",
   "execution_count": 70,
   "id": "b301ca9f-dc26-4a74-a110-2faadabad09c",
   "metadata": {},
   "outputs": [
    {
     "data": {
      "text/plain": [
       "[<matplotlib.lines.Line2D at 0x7fc5a6a86640>]"
      ]
     },
     "execution_count": 70,
     "metadata": {},
     "output_type": "execute_result"
    },
    {
     "data": {
      "image/png": "[encoded data removed]",
      "text/plain": [
       "<Figure size 432x288 with 1 Axes>"
      ]
     },
     "metadata": {
      "needs_background": "light"
     },
     "output_type": "display_data"
    }
   ],
   "source": [
    "import matplotlib.pyplot as plt\n",
    "figure = plt.figure()\n",
    "ax = figure.add_subplot(1, 1, 1)\n",
    "ax.scatter(x_samples[:, 0], y_samples[:, 0])\n",
    "ax.plot(jnp.sort(x_samples[:, 0]), jax.vmap(true_predict)(jnp.sort(x_samples))[:, 0])"
   ]
  },
  {
   "cell_type": "code",
   "execution_count": 79,
   "id": "2beeaed0-0f17-4198-80ae-536d4cc326ba",
   "metadata": {},
   "outputs": [
    {
     "name": "stdout",
     "output_type": "stream",
     "text": [
      "loss for true W, b:  0.023639776\n",
      "loss step 0:  11.096583\n",
      "loss step 5:  1.1743389\n",
      "loss step 10:  0.32879344\n",
      "loss step 15:  0.1398177\n",
      "loss step 20:  0.07359564\n",
      "loss step 25:  0.044152994\n",
      "loss step 30:  0.029408664\n",
      "loss step 35:  0.021554654\n",
      "loss step 40:  0.017227935\n",
      "loss step 45:  0.014798886\n",
      "loss step 50:  0.013420231\n",
      "loss step 55:  0.012632704\n",
      "loss step 60:  0.012181091\n",
      "loss step 65:  0.011921467\n",
      "loss step 70:  0.011771987\n",
      "loss step 75:  0.011685841\n",
      "loss step 80:  0.011636151\n",
      "loss step 85:  0.011607485\n",
      "loss step 90:  0.011590938\n",
      "loss step 95:  0.011581396\n",
      "loss step 100:  0.011575882\n"
     ]
    }
   ],
   "source": [
    "# Initialize estimated W and b with zeros\n",
    "What = jnp.zeros_like(W)\n",
    "bhat = jnp.zeros_like(b)\n",
    "\n",
    "alpha = 0.3\n",
    "print(\"loss for true W, b: \", mse(W, b))\n",
    "for i in range(101):\n",
    "    What, bhat = What - alpha * jax.grad(mse, 0)(What, bhat), bhat - alpha * jax.grad(mse, 1)(What, bhat)\n",
    "    if (i % 5 == 0):\n",
    "        print(\"loss step {}: \".format(i), mse(What, bhat))"
   ]
  },
  {
   "cell_type": "code",
   "execution_count": 80,
   "id": "ef937481-df07-4ac1-98ec-261ffa0ffec1",
   "metadata": {},
   "outputs": [
    {
     "data": {
      "text/plain": [
       "[<matplotlib.lines.Line2D at 0x7fc5a68e1400>]"
      ]
     },
     "execution_count": 80,
     "metadata": {},
     "output_type": "execute_result"
    },
    {
     "data": {
      "image/png": "[encoded data removed]",
      "text/plain": [
       "<Figure size 432x288 with 1 Axes>"
      ]
     },
     "metadata": {
      "needs_background": "light"
     },
     "output_type": "display_data"
    }
   ],
   "source": [
    "figure = plt.figure()\n",
    "ax = figure.add_subplot(1, 1, 1)\n",
    "ax.scatter(x_samples[:, 0], y_samples[:, 0])\n",
    "ax.plot(jnp.sort(x_samples[:, 0]), jax.vmap(true_predict)(jnp.sort(x_samples))[:, 0])\n",
    "ax.plot(jnp.sort(x_samples[:, 0]), jax.vmap(make_predict(What, bhat))(jnp.sort(x_samples))[:, 0])"
   ]
  },
  {
   "cell_type": "markdown",
   "id": "25d2cb71-bccb-445a-b3fa-7802f9b1c813",
   "metadata": {},
   "source": [
    "# Pytrees"
   ]
  },
  {
   "cell_type": "code",
   "execution_count": 87,
   "id": "b6f1f48f-4007-4392-a2e8-90ba8167efb6",
   "metadata": {},
   "outputs": [],
   "source": [
    "from jax import tree_util\n",
    "\n",
    "t = [1, {\"k1\": 2, \"k2\": (3, 4)}, 5]\n",
    "t2 = [1, {\"k1\": 2, \"k2\": (3, 4)}, 23]"
   ]
  },
  {
   "cell_type": "code",
   "execution_count": 88,
   "id": "1e6db706-aa59-45a8-9adc-ce5d0669783f",
   "metadata": {},
   "outputs": [
    {
     "data": {
      "text/plain": [
       "[1, {'k1': 4, 'k2': (9, 16)}, 25]"
      ]
     },
     "execution_count": 88,
     "metadata": {},
     "output_type": "execute_result"
    }
   ],
   "source": [
    "tree_util.tree_map(lambda x: x*x, t)"
   ]
  },
  {
   "cell_type": "code",
   "execution_count": 89,
   "id": "86844e5b-b75c-4d1b-90ed-9a24e51b5310",
   "metadata": {},
   "outputs": [
    {
     "data": {
      "text/plain": [
       "[2, {'k1': 4, 'k2': (6, 8)}, 28]"
      ]
     },
     "execution_count": 89,
     "metadata": {},
     "output_type": "execute_result"
    }
   ],
   "source": [
    "tree_util.tree_multimap(lambda x,y: x+y, t, t2)"
   ]
  },
  {
   "cell_type": "code",
   "execution_count": 95,
   "id": "c9d43107-01b0-4e09-941c-a78e57736e43",
   "metadata": {},
   "outputs": [],
   "source": [
    "key = random.PRNGKey(0)\n",
    "\n",
    "def make_predict_pytree(params):\n",
    "    def predict(x):\n",
    "        return jnp.dot(params[\"W\"], x) + params[\"b\"]\n",
    "    return predict\n",
    "\n",
    "def make_mse_pytree(x_batched, y_batched):\n",
    "    def mse(params):\n",
    "        def squared_error(x, y):\n",
    "            y_pred = make_predict_pytree(params)(x)\n",
    "            return jnp.inner(y - y_pred, y - y_pred) / 2.0\n",
    "        return jnp.mean(jax.vmap(squared_error)(x_batched, y_batched), axis=0)\n",
    "    return jax.jit(mse)"
   ]
  },
  {
   "cell_type": "code",
   "execution_count": 112,
   "id": "7aaebd0c-b5f2-4e31-a9db-1c4023d89f07",
   "metadata": {},
   "outputs": [
    {
     "data": {
      "text/plain": [
       "{'W': DeviceArray([[-1.9287343e+00,  4.2963755e-01,  7.1613449e-01,\n",
       "                2.1056123e+00,  5.0405121e-01, -2.4983375e+00,\n",
       "               -6.3854140e-01, -2.2620211e+00, -1.3365202e+00,\n",
       "               -2.0426035e-01],\n",
       "              [ 1.1999466e+00, -9.4563603e-01, -1.0878402e+00,\n",
       "               -7.0340675e-01,  3.3224615e-01,  1.7538788e+00,\n",
       "               -7.1916544e-01,  1.0927428e+00, -1.4491031e+00,\n",
       "                5.9715623e-01],\n",
       "              [-1.4826506e+00, -7.6116538e-01,  2.2319874e-01,\n",
       "               -3.0391946e-01,  3.0397055e+00, -3.8419434e-01,\n",
       "               -1.8290073e+00, -2.3353367e+00, -1.1087127e+00,\n",
       "               -7.7453983e-01],\n",
       "              [ 8.2374448e-01, -9.9650621e-01, -7.6030117e-01,\n",
       "                6.3919234e-01, -6.0864821e-02, -1.0859716e+00,\n",
       "                1.2923400e+00, -4.9342912e-01, -1.4710277e-03,\n",
       "                1.2977618e+00],\n",
       "              [-4.5656449e-01, -1.3063039e-01, -3.9179015e-01,\n",
       "                2.1743820e+00, -5.3948678e-02,  4.5653114e-01,\n",
       "               -8.5279429e-01,  1.1709595e+00,  9.6438807e-01,\n",
       "               -2.3813691e-02]], dtype=float32),\n",
       " 'b': DeviceArray([ 1.0923626,  1.3121074, -2.9304824, -0.6492363,  1.1531252],            dtype=float32)}"
      ]
     },
     "execution_count": 112,
     "metadata": {},
     "output_type": "execute_result"
    }
   ],
   "source": [
    "mse_pytree = make_mse_pytree(x_samples, y_samples)\n",
    "params = {\"W\": jnp.zeros_like(W), \"b\": jnp.zeros_like(b)}\n",
    "jax.grad(mse_pytree)(params)"
   ]
  },
  {
   "cell_type": "code",
   "execution_count": 113,
   "id": "82b86e74-b8b4-40a1-af66-25e5f76b6205",
   "metadata": {},
   "outputs": [
    {
     "name": "stdout",
     "output_type": "stream",
     "text": [
      "loss for true W, b:  0.023639776\n",
      "current loss:  11.096583\n",
      "current loss:  1.1743389\n",
      "current loss:  0.32879344\n",
      "current loss:  0.1398177\n",
      "current loss:  0.07359564\n",
      "current loss:  0.044152994\n",
      "current loss:  0.029408664\n",
      "current loss:  0.021554654\n",
      "current loss:  0.017227935\n",
      "current loss:  0.014798886\n",
      "current loss:  0.013420231\n",
      "current loss:  0.012632704\n",
      "current loss:  0.012181091\n",
      "current loss:  0.011921467\n",
      "current loss:  0.011771987\n",
      "current loss:  0.011685841\n",
      "current loss:  0.011636151\n",
      "current loss:  0.011607485\n",
      "current loss:  0.011590938\n",
      "current loss:  0.011581396\n",
      "current loss:  0.011575882\n"
     ]
    }
   ],
   "source": [
    "print(\"loss for true W, b: \", mse_pytree({\"W\": W, \"b\": b}))\n",
    "\n",
    "for i in range(101):\n",
    "    params = jax.tree_multimap(\n",
    "        lambda x, y: x - alpha * y,\n",
    "        params,\n",
    "        jax.grad(mse_pytree)(params)\n",
    "    )\n",
    "    if i % 5 == 0:\n",
    "        print(\"current loss: \", mse_pytree(params))"
   ]
  },
  {
   "cell_type": "code",
   "execution_count": 114,
   "id": "ba72da73-18a3-4363-8688-dc8466d92b30",
   "metadata": {},
   "outputs": [
    {
     "data": {
      "text/plain": [
       "[<matplotlib.lines.Line2D at 0x7fc5a654adc0>]"
      ]
     },
     "execution_count": 114,
     "metadata": {},
     "output_type": "execute_result"
    },
    {
     "data": {
      "image/png": "[encoded data removed]",
      "text/plain": [
       "<Figure size 432x288 with 1 Axes>"
      ]
     },
     "metadata": {
      "needs_background": "light"
     },
     "output_type": "display_data"
    }
   ],
   "source": [
    "figure = plt.figure()\n",
    "ax = figure.add_subplot(1, 1, 1)\n",
    "ax.scatter(x_samples[:, 0], y_samples[:, 0])\n",
    "ax.plot(jnp.sort(x_samples[:, 0]), jax.vmap(true_predict)(jnp.sort(x_samples))[:, 0])\n",
    "ax.plot(jnp.sort(x_samples[:, 0]), jax.vmap(make_predict(params[\"W\"], params[\"b\"]))(jnp.sort(x_samples))[:, 0])"
   ]
  },
  {
   "cell_type": "code",
   "execution_count": 115,
   "id": "865f3f64-9181-4803-9855-0601f9b59421",
   "metadata": {},
   "outputs": [],
   "source": [
    "# done! :)"
   ]
  }
 ],
 "metadata": {
  "kernelspec": {
   "display_name": "Python 3 (ipykernel)",
   "language": "python",
   "name": "python3"
  },
  "language_info": {
   "codemirror_mode": {
    "name": "ipython",
    "version": 3
   },
   "file_extension": ".py",
   "mimetype": "text/x-python",
   "name": "python",
   "nbconvert_exporter": "python",
   "pygments_lexer": "ipython3",
   "version": "3.9.7"
  }
 },
 "nbformat": 4,
 "nbformat_minor": 5
}
